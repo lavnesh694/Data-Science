{
 "cells": [
  {
   "cell_type": "code",
   "execution_count": 58,
   "id": "da48e5b6-f0b4-4036-ad04-70f7c0e16241",
   "metadata": {},
   "outputs": [],
   "source": [
    "f=open(\"text.txt\",\"r\")"
   ]
  },
  {
   "cell_type": "code",
   "execution_count": 59,
   "id": "1c5e9728-adf9-40c1-a0af-1ebb985cfaff",
   "metadata": {},
   "outputs": [
    {
     "data": {
      "text/plain": [
       "'my name is lk bosss don'"
      ]
     },
     "execution_count": 59,
     "metadata": {},
     "output_type": "execute_result"
    }
   ],
   "source": [
    "f.read()"
   ]
  },
  {
   "cell_type": "code",
   "execution_count": 60,
   "id": "24045d25-6e70-4233-9bd1-95b8cfe800df",
   "metadata": {},
   "outputs": [],
   "source": [
    "f.close()"
   ]
  },
  {
   "cell_type": "code",
   "execution_count": 61,
   "id": "faff2616-fee0-4bd0-a569-5a00f1c5ae06",
   "metadata": {},
   "outputs": [],
   "source": [
    "f=open(\"lavi.txt\",\"w\")"
   ]
  },
  {
   "cell_type": "code",
   "execution_count": 62,
   "id": "40f2c0dc-9985-4944-b98d-1db388c9ac30",
   "metadata": {},
   "outputs": [
    {
     "data": {
      "text/plain": [
       "23"
      ]
     },
     "execution_count": 62,
     "metadata": {},
     "output_type": "execute_result"
    }
   ],
   "source": [
    "f.write(\"my name is lk bosss don\")"
   ]
  },
  {
   "cell_type": "code",
   "execution_count": 63,
   "id": "4bd1064f-5fea-4572-bcf5-45ec2cfe9240",
   "metadata": {},
   "outputs": [],
   "source": [
    "f.close()"
   ]
  },
  {
   "cell_type": "code",
   "execution_count": 64,
   "id": "261ab08f-eb3d-4d27-9c0f-82bf701dcb87",
   "metadata": {},
   "outputs": [
    {
     "data": {
      "text/plain": [
       "'my name is lk bosss don'"
      ]
     },
     "execution_count": 64,
     "metadata": {},
     "output_type": "execute_result"
    }
   ],
   "source": [
    "f=open(\"lavi.txt\",\"r\")\n",
    "f.read()"
   ]
  },
  {
   "cell_type": "code",
   "execution_count": 65,
   "id": "a99ea541-a99c-4e84-9d80-c32dd53a1cab",
   "metadata": {},
   "outputs": [],
   "source": [
    "f=open(\"lavi.txt\",\"w\")"
   ]
  },
  {
   "cell_type": "code",
   "execution_count": 66,
   "id": "d539ed3b-c85f-4f2e-af08-76c77356c3b2",
   "metadata": {},
   "outputs": [
    {
     "data": {
      "text/plain": [
       "1"
      ]
     },
     "execution_count": 66,
     "metadata": {},
     "output_type": "execute_result"
    }
   ],
   "source": [
    "l=\"m\"\n",
    "f.write(l)"
   ]
  },
  {
   "cell_type": "code",
   "execution_count": 67,
   "id": "a5d00a8c-1918-4adf-aaf0-ef08bd53dac8",
   "metadata": {},
   "outputs": [
    {
     "data": {
      "text/plain": [
       "<_io.TextIOWrapper name='lavi.txt' mode='w' encoding='cp1252'>"
      ]
     },
     "execution_count": 67,
     "metadata": {},
     "output_type": "execute_result"
    }
   ],
   "source": [
    "f"
   ]
  },
  {
   "cell_type": "code",
   "execution_count": 68,
   "id": "c54e3e93-e206-44bd-b7de-137f603f90b4",
   "metadata": {},
   "outputs": [],
   "source": [
    "f.close()"
   ]
  },
  {
   "cell_type": "code",
   "execution_count": 69,
   "id": "2eed30b1-6c3c-4677-ba7b-667b5ca98015",
   "metadata": {},
   "outputs": [],
   "source": [
    "f.close()"
   ]
  },
  {
   "cell_type": "code",
   "execution_count": 70,
   "id": "8fe07931-c6d3-456d-b827-5ca180e0bbb6",
   "metadata": {},
   "outputs": [
    {
     "data": {
      "text/plain": [
       "'m'"
      ]
     },
     "execution_count": 70,
     "metadata": {},
     "output_type": "execute_result"
    }
   ],
   "source": [
    "f=open(\"lavi.txt\",\"r\")\n",
    "f.read()"
   ]
  },
  {
   "cell_type": "code",
   "execution_count": 71,
   "id": "0914d1ff-6ff3-4c3f-8e8c-55a4d7f63f77",
   "metadata": {},
   "outputs": [],
   "source": [
    "f.close()"
   ]
  },
  {
   "cell_type": "code",
   "execution_count": 72,
   "id": "85dce897-4ba3-4a1c-b2fc-3920ea669e90",
   "metadata": {},
   "outputs": [
    {
     "name": "stdout",
     "output_type": "stream",
     "text": [
      "my name is lk bosss don\n"
     ]
    }
   ],
   "source": [
    "with open(\"text.txt\",\"r\") as file:\n",
    "    content=file.read()\n",
    "    print(content)"
   ]
  },
  {
   "cell_type": "code",
   "execution_count": 73,
   "id": "625e877b-337c-49e2-9294-cdebd36ee24c",
   "metadata": {},
   "outputs": [
    {
     "name": "stdout",
     "output_type": "stream",
     "text": [
      "file hai bhaiy\n"
     ]
    }
   ],
   "source": [
    "import os\n",
    "\n",
    "if os.path.exists(\"lavi.txt\"):\n",
    "    print(\"file hai bhaiy\")\n",
    "else:\n",
    "    print(\"nhi mili bhaiya\")"
   ]
  },
  {
   "cell_type": "code",
   "execution_count": 75,
   "id": "2fad310d-4816-4a09-8f7b-d2989d3bb719",
   "metadata": {},
   "outputs": [],
   "source": [
    "f.close()\n",
    "os.remove(\"text.txt\")"
   ]
  },
  {
   "cell_type": "markdown",
   "id": "71d2594a-d4d8-4dd5-9c2d-ba1f01264626",
   "metadata": {},
   "source": [
    "# most imprtant json module"
   ]
  },
  {
   "cell_type": "code",
   "execution_count": 78,
   "id": "7aec93e4-053f-4fea-9b18-a0d63720d4ea",
   "metadata": {},
   "outputs": [],
   "source": [
    "import json"
   ]
  },
  {
   "cell_type": "code",
   "execution_count": 92,
   "id": "ada248f8-8211-4bf2-92d0-494c6a3d43bb",
   "metadata": {},
   "outputs": [
    {
     "data": {
      "text/plain": [
       "'{\"name\": \"lavnesh\", \"age\": 21, \"handsome\": true}'"
      ]
     },
     "execution_count": 92,
     "metadata": {},
     "output_type": "execute_result"
    }
   ],
   "source": [
    "obj={\"name\":\"lavnesh\",\"age\":21,\"handsome\":True}\n",
    "str=json.dumps(obj)\n",
    "str"
   ]
  },
  {
   "cell_type": "code",
   "execution_count": 84,
   "id": "d1cfabeb-d910-47ca-906a-2be633c73891",
   "metadata": {},
   "outputs": [],
   "source": [
    "obj=json.loads(str)"
   ]
  },
  {
   "cell_type": "code",
   "execution_count": 85,
   "id": "27fe72c5-bb69-4dc4-80c0-51086981e633",
   "metadata": {},
   "outputs": [
    {
     "data": {
      "text/plain": [
       "{'name': 'lavnesh', 'age': 21, 'handsome': True}"
      ]
     },
     "execution_count": 85,
     "metadata": {},
     "output_type": "execute_result"
    }
   ],
   "source": [
    "obj"
   ]
  },
  {
   "cell_type": "markdown",
   "id": "a8ba12a9-ca9f-4f57-8b52-ee8d58bd5425",
   "metadata": {},
   "source": [
    "# Dumps is basically used to convert object into string"
   ]
  },
  {
   "cell_type": "markdown",
   "id": "6e49a12e-fe2b-4567-9685-a2e9d10a73bb",
   "metadata": {},
   "source": [
    "# Loads basically used to convert string to dictionary"
   ]
  },
  {
   "cell_type": "code",
   "execution_count": 98,
   "id": "30718fe6-d1e8-41c4-8868-cdb28694f51f",
   "metadata": {},
   "outputs": [],
   "source": [
    "file=open(\"text.json\",\"r\")"
   ]
  },
  {
   "cell_type": "code",
   "execution_count": 99,
   "id": "b71f3ef1-9bb6-48fa-8d0a-aefcbef71b0f",
   "metadata": {},
   "outputs": [
    {
     "data": {
      "text/plain": [
       "{'name': 'lavnesh', 'age': 21, 'handsome': True}"
      ]
     },
     "execution_count": 99,
     "metadata": {},
     "output_type": "execute_result"
    }
   ],
   "source": [
    "json.load(file)"
   ]
  },
  {
   "cell_type": "code",
   "execution_count": 100,
   "id": "488cee1c-1fcd-4c8f-b97f-23515737ca87",
   "metadata": {},
   "outputs": [],
   "source": [
    "file.close()"
   ]
  },
  {
   "cell_type": "code",
   "execution_count": null,
   "id": "1b28b71c-fbda-4804-adb5-13760ce84c6a",
   "metadata": {},
   "outputs": [],
   "source": []
  }
 ],
 "metadata": {
  "kernelspec": {
   "display_name": "Python 3 (ipykernel)",
   "language": "python",
   "name": "python3"
  },
  "language_info": {
   "codemirror_mode": {
    "name": "ipython",
    "version": 3
   },
   "file_extension": ".py",
   "mimetype": "text/x-python",
   "name": "python",
   "nbconvert_exporter": "python",
   "pygments_lexer": "ipython3",
   "version": "3.11.11"
  }
 },
 "nbformat": 4,
 "nbformat_minor": 5
}
