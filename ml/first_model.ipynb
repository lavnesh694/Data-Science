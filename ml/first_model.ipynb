{
 "cells": [
  {
   "cell_type": "code",
   "execution_count": 1,
   "id": "00c98256-eeb4-4247-940e-511ebf783680",
   "metadata": {},
   "outputs": [
    {
     "name": "stdout",
     "output_type": "stream",
     "text": [
      "Collecting scikit_learn\n",
      "  Downloading scikit_learn-1.7.0-cp313-cp313-win_amd64.whl.metadata (14 kB)\n",
      "Requirement already satisfied: numpy>=1.22.0 in c:\\users\\lavne\\anaconda3\\envs\\practice\\lib\\site-packages (from scikit_learn) (2.2.4)\n",
      "Collecting scipy>=1.8.0 (from scikit_learn)\n",
      "  Downloading scipy-1.15.3-cp313-cp313-win_amd64.whl.metadata (60 kB)\n",
      "Collecting joblib>=1.2.0 (from scikit_learn)\n",
      "  Downloading joblib-1.5.1-py3-none-any.whl.metadata (5.6 kB)\n",
      "Collecting threadpoolctl>=3.1.0 (from scikit_learn)\n",
      "  Using cached threadpoolctl-3.6.0-py3-none-any.whl.metadata (13 kB)\n",
      "Downloading scikit_learn-1.7.0-cp313-cp313-win_amd64.whl (10.7 MB)\n",
      "   ---------------------------------------- 0.0/10.7 MB ? eta -:--:--\n",
      "   ------------- -------------------------- 3.7/10.7 MB 19.8 MB/s eta 0:00:01\n",
      "   ------------- -------------------------- 3.7/10.7 MB 19.8 MB/s eta 0:00:01\n",
      "   ------------------- -------------------- 5.2/10.7 MB 10.4 MB/s eta 0:00:01\n",
      "   ------------------------ --------------- 6.6/10.7 MB 7.8 MB/s eta 0:00:01\n",
      "   ---------------------------- ----------- 7.6/10.7 MB 7.3 MB/s eta 0:00:01\n",
      "   ------------------------------- -------- 8.4/10.7 MB 6.8 MB/s eta 0:00:01\n",
      "   ---------------------------------- ----- 9.2/10.7 MB 6.1 MB/s eta 0:00:01\n",
      "   ------------------------------------- -- 10.0/10.7 MB 5.9 MB/s eta 0:00:01\n",
      "   ---------------------------------------- 10.7/10.7 MB 5.7 MB/s eta 0:00:00\n",
      "Downloading joblib-1.5.1-py3-none-any.whl (307 kB)\n",
      "Downloading scipy-1.15.3-cp313-cp313-win_amd64.whl (41.0 MB)\n",
      "   ---------------------------------------- 0.0/41.0 MB ? eta -:--:--\n",
      "   - -------------------------------------- 1.3/41.0 MB 7.1 MB/s eta 0:00:06\n",
      "   -- ------------------------------------- 2.4/41.0 MB 5.3 MB/s eta 0:00:08\n",
      "   --- ------------------------------------ 3.7/41.0 MB 5.9 MB/s eta 0:00:07\n",
      "   ---- ----------------------------------- 5.0/41.0 MB 6.2 MB/s eta 0:00:06\n",
      "   ----- ---------------------------------- 5.8/41.0 MB 5.5 MB/s eta 0:00:07\n",
      "   ------ --------------------------------- 6.6/41.0 MB 5.2 MB/s eta 0:00:07\n",
      "   ------- -------------------------------- 7.6/41.0 MB 5.2 MB/s eta 0:00:07\n",
      "   -------- ------------------------------- 8.4/41.0 MB 5.0 MB/s eta 0:00:07\n",
      "   --------- ------------------------------ 10.2/41.0 MB 5.3 MB/s eta 0:00:06\n",
      "   ----------- ---------------------------- 11.3/41.0 MB 5.4 MB/s eta 0:00:06\n",
      "   ----------- ---------------------------- 11.8/41.0 MB 5.2 MB/s eta 0:00:06\n",
      "   ------------ --------------------------- 12.8/41.0 MB 5.1 MB/s eta 0:00:06\n",
      "   ------------- -------------------------- 13.9/41.0 MB 5.1 MB/s eta 0:00:06\n",
      "   -------------- ------------------------- 14.9/41.0 MB 5.1 MB/s eta 0:00:06\n",
      "   --------------- ------------------------ 16.0/41.0 MB 5.2 MB/s eta 0:00:05\n",
      "   ---------------- ----------------------- 16.8/41.0 MB 5.0 MB/s eta 0:00:05\n",
      "   ----------------- ---------------------- 17.6/41.0 MB 4.9 MB/s eta 0:00:05\n",
      "   ------------------ --------------------- 19.1/41.0 MB 5.1 MB/s eta 0:00:05\n",
      "   ------------------- -------------------- 20.2/41.0 MB 5.1 MB/s eta 0:00:05\n",
      "   -------------------- ------------------- 21.0/41.0 MB 5.0 MB/s eta 0:00:05\n",
      "   ---------------------- ----------------- 22.5/41.0 MB 5.1 MB/s eta 0:00:04\n",
      "   ----------------------- ---------------- 23.6/41.0 MB 5.1 MB/s eta 0:00:04\n",
      "   ----------------------- ---------------- 24.4/41.0 MB 5.1 MB/s eta 0:00:04\n",
      "   ------------------------ --------------- 25.4/41.0 MB 5.0 MB/s eta 0:00:04\n",
      "   ------------------------- -------------- 26.5/41.0 MB 5.0 MB/s eta 0:00:03\n",
      "   --------------------------- ------------ 27.8/41.0 MB 5.1 MB/s eta 0:00:03\n",
      "   --------------------------- ------------ 28.6/41.0 MB 5.0 MB/s eta 0:00:03\n",
      "   ---------------------------- ----------- 29.6/41.0 MB 5.0 MB/s eta 0:00:03\n",
      "   ------------------------------ --------- 31.2/41.0 MB 5.1 MB/s eta 0:00:02\n",
      "   ------------------------------- -------- 32.5/41.0 MB 5.2 MB/s eta 0:00:02\n",
      "   -------------------------------- ------- 33.3/41.0 MB 5.1 MB/s eta 0:00:02\n",
      "   --------------------------------- ------ 33.8/41.0 MB 5.0 MB/s eta 0:00:02\n",
      "   ---------------------------------- ----- 35.1/41.0 MB 5.0 MB/s eta 0:00:02\n",
      "   ---------------------------------- ----- 35.7/41.0 MB 5.0 MB/s eta 0:00:02\n",
      "   ------------------------------------ --- 37.2/41.0 MB 5.0 MB/s eta 0:00:01\n",
      "   ------------------------------------- -- 38.3/41.0 MB 5.0 MB/s eta 0:00:01\n",
      "   -------------------------------------- - 39.3/41.0 MB 5.0 MB/s eta 0:00:01\n",
      "   ---------------------------------------  40.4/41.0 MB 5.0 MB/s eta 0:00:01\n",
      "   ---------------------------------------  40.9/41.0 MB 5.0 MB/s eta 0:00:01\n",
      "   ---------------------------------------- 41.0/41.0 MB 4.9 MB/s eta 0:00:00\n",
      "Using cached threadpoolctl-3.6.0-py3-none-any.whl (18 kB)\n",
      "Installing collected packages: threadpoolctl, scipy, joblib, scikit_learn\n",
      "Successfully installed joblib-1.5.1 scikit_learn-1.7.0 scipy-1.15.3 threadpoolctl-3.6.0\n",
      "Note: you may need to restart the kernel to use updated packages.\n"
     ]
    }
   ],
   "source": [
    "pip install scikit-learn"
   ]
  },
  {
   "cell_type": "code",
   "execution_count": 2,
   "id": "93329b32-4014-44b5-9f5e-8897115a579f",
   "metadata": {},
   "outputs": [],
   "source": [
    "from sklearn import tree"
   ]
  },
  {
   "cell_type": "code",
   "execution_count": 4,
   "id": "963def52-65da-48b2-b701-7da972ac44d6",
   "metadata": {},
   "outputs": [],
   "source": [
    "features=[\n",
    "    [101,0], [121,0], [141,0], [181,0], [191,0],\n",
    "     [201,1], [221,1], [245,1], [281,1], [292,1],\n",
    "     [1,2],  [17,2],  [45,2],  [81,2],  [97,2]\n",
    "]\n",
    "\n",
    "labels=['lavnesh','lavnesh','lavnesh','lavnesh','lavnesh','Anant','Anant','Anant','Anant','Anant','Deepak','Deepak','Deepak','Deepak','Deepak']"
   ]
  },
  {
   "cell_type": "code",
   "execution_count": 6,
   "id": "cd01bd09-0b99-4102-b5c7-244a90302cc7",
   "metadata": {},
   "outputs": [],
   "source": [
    "clf=tree.DecisionTreeClassifier()\n",
    "\n",
    "clf=clf.fit(features,labels)"
   ]
  },
  {
   "cell_type": "code",
   "execution_count": 13,
   "id": "e268f823-acfd-4821-b52b-5f718aa63523",
   "metadata": {},
   "outputs": [
    {
     "data": {
      "text/plain": [
       "array(['lavnesh', 'lavnesh', 'Deepak', 'Anant'], dtype='<U7')"
      ]
     },
     "execution_count": 13,
     "metadata": {},
     "output_type": "execute_result"
    }
   ],
   "source": [
    "ans=[[122,0],[133,1],[91,2],[200,0]]\n",
    "prediction=clf.predict(ans)\n",
    "prediction"
   ]
  },
  {
   "cell_type": "code",
   "execution_count": 15,
   "id": "05936da8-cc8d-4733-97a0-b1a11d75aa98",
   "metadata": {},
   "outputs": [
    {
     "name": "stdout",
     "output_type": "stream",
     "text": [
      "The preediction of [122, 0] is lavnesh \n",
      "\n",
      "The preediction of [133, 1] is lavnesh \n",
      "\n",
      "The preediction of [91, 2] is Deepak \n",
      "\n",
      "The preediction of [200, 0] is Anant \n",
      "\n"
     ]
    }
   ],
   "source": [
    "for i,j in zip(prediction,ans):\n",
    "    print(f\"The preediction of {j} is {i} \\n\")"
   ]
  },
  {
   "cell_type": "code",
   "execution_count": null,
   "id": "c2132107-8197-460e-bf7e-54e081b9dc8d",
   "metadata": {},
   "outputs": [],
   "source": []
  }
 ],
 "metadata": {
  "kernelspec": {
   "display_name": "Python 3 (ipykernel)",
   "language": "python",
   "name": "python3"
  },
  "language_info": {
   "codemirror_mode": {
    "name": "ipython",
    "version": 3
   },
   "file_extension": ".py",
   "mimetype": "text/x-python",
   "name": "python",
   "nbconvert_exporter": "python",
   "pygments_lexer": "ipython3",
   "version": "3.13.2"
  }
 },
 "nbformat": 4,
 "nbformat_minor": 5
}
