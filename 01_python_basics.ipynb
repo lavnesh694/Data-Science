{
 "cells": [
  {
   "cell_type": "code",
   "execution_count": 4,
   "id": "717ae0bf-4938-4778-8306-0f34b275500a",
   "metadata": {
    "tags": []
   },
   "outputs": [],
   "source": [
    "name=\"lavnesh\""
   ]
  },
  {
   "cell_type": "code",
   "execution_count": 7,
   "id": "6cbb0296-7248-4016-92f8-e25ee00271b2",
   "metadata": {
    "tags": []
   },
   "outputs": [
    {
     "name": "stdout",
     "output_type": "stream",
     "text": [
      "lavnesh\n"
     ]
    }
   ],
   "source": [
    "print(name)"
   ]
  },
  {
   "cell_type": "code",
   "execution_count": 9,
   "id": "e3434bf5-3092-450f-bf46-8acecc096f1e",
   "metadata": {
    "tags": []
   },
   "outputs": [],
   "source": [
    "# this is a comment"
   ]
  },
  {
   "cell_type": "code",
   "execution_count": 10,
   "id": "ea3aaaf0-0d35-47fa-9680-5dc917e5e654",
   "metadata": {
    "tags": []
   },
   "outputs": [
    {
     "data": {
      "text/plain": [
       "str"
      ]
     },
     "execution_count": 10,
     "metadata": {},
     "output_type": "execute_result"
    }
   ],
   "source": [
    "type(name)"
   ]
  },
  {
   "cell_type": "code",
   "execution_count": 11,
   "id": "5857f1a6-358c-444a-bc76-f72e70f0a8d4",
   "metadata": {
    "tags": []
   },
   "outputs": [
    {
     "ename": "NameError",
     "evalue": "name 'aba' is not defined",
     "output_type": "error",
     "traceback": [
      "\u001b[1;31m---------------------------------------------------------------------------\u001b[0m",
      "\u001b[1;31mNameError\u001b[0m                                 Traceback (most recent call last)",
      "Cell \u001b[1;32mIn[11], line 1\u001b[0m\n\u001b[1;32m----> 1\u001b[0m aba\n",
      "\u001b[1;31mNameError\u001b[0m: name 'aba' is not defined"
     ]
    }
   ],
   "source": [
    "aba"
   ]
  },
  {
   "cell_type": "code",
   "execution_count": 12,
   "id": "95dfa6e6-4625-42b4-b9f9-ede54fd8f54a",
   "metadata": {
    "tags": []
   },
   "outputs": [
    {
     "name": "stdout",
     "output_type": "stream",
     "text": [
      "4566235\n"
     ]
    }
   ],
   "source": [
    "a=\"4566\"\n",
    "b=\"235\"\n",
    "print(a+b)"
   ]
  },
  {
   "cell_type": "code",
   "execution_count": 13,
   "id": "ac06e0b3-b0f9-4d70-8aaa-3cb831d72f9f",
   "metadata": {
    "tags": []
   },
   "outputs": [
    {
     "data": {
      "text/plain": [
       "4801"
      ]
     },
     "execution_count": 13,
     "metadata": {},
     "output_type": "execute_result"
    }
   ],
   "source": [
    "int(a)+int(b)#type casting"
   ]
  },
  {
   "cell_type": "code",
   "execution_count": null,
   "id": "69ebe679-597f-49e0-80d4-8336863ea425",
   "metadata": {},
   "outputs": [],
   "source": []
  }
 ],
 "metadata": {
  "kernelspec": {
   "display_name": "Python 3 (ipykernel)",
   "language": "python",
   "name": "python3"
  },
  "language_info": {
   "codemirror_mode": {
    "name": "ipython",
    "version": 3
   },
   "file_extension": ".py",
   "mimetype": "text/x-python",
   "name": "python",
   "nbconvert_exporter": "python",
   "pygments_lexer": "ipython3",
   "version": "3.11.5"
  }
 },
 "nbformat": 4,
 "nbformat_minor": 5
}
