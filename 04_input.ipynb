{
 "cells": [
  {
   "cell_type": "code",
   "execution_count": 1,
   "id": "5d116d3d-3eb2-4d4f-9cf0-ca73c1729a5d",
   "metadata": {
    "tags": []
   },
   "outputs": [
    {
     "name": "stdin",
     "output_type": "stream",
     "text": [
      "Enter the value of a 50\n"
     ]
    }
   ],
   "source": [
    "a=input('Enter the value of a')"
   ]
  },
  {
   "cell_type": "code",
   "execution_count": 2,
   "id": "ec510481-48ed-41f8-a719-a684da2a8861",
   "metadata": {
    "tags": []
   },
   "outputs": [
    {
     "name": "stdin",
     "output_type": "stream",
     "text": [
      "Enter the value of b 10\n"
     ]
    }
   ],
   "source": [
    "b=input('Enter the value of b')\n"
   ]
  },
  {
   "cell_type": "code",
   "execution_count": 3,
   "id": "3af318f8-ae2e-4b56-ad54-fc26cfaf34b5",
   "metadata": {
    "tags": []
   },
   "outputs": [
    {
     "data": {
      "text/plain": [
       "'5010'"
      ]
     },
     "execution_count": 3,
     "metadata": {},
     "output_type": "execute_result"
    }
   ],
   "source": [
    "a+b # a and b by default is strings"
   ]
  },
  {
   "cell_type": "code",
   "execution_count": 4,
   "id": "48bd2eb0-7870-4c49-b1b5-2d06b6b54011",
   "metadata": {
    "tags": []
   },
   "outputs": [
    {
     "data": {
      "text/plain": [
       "60"
      ]
     },
     "execution_count": 4,
     "metadata": {},
     "output_type": "execute_result"
    }
   ],
   "source": [
    "int(a)+int(b)"
   ]
  },
  {
   "cell_type": "code",
   "execution_count": 9,
   "id": "ce6fce44-6813-4987-865b-cbfd52e7cec8",
   "metadata": {
    "tags": []
   },
   "outputs": [
    {
     "name": "stdin",
     "output_type": "stream",
     "text": [
      " 50\n"
     ]
    }
   ],
   "source": [
    "c=input()"
   ]
  },
  {
   "cell_type": "code",
   "execution_count": 6,
   "id": "d90a3732-8b19-4e66-b7d0-26fe286a3b56",
   "metadata": {
    "tags": []
   },
   "outputs": [
    {
     "data": {
      "text/plain": [
       "'67'"
      ]
     },
     "execution_count": 6,
     "metadata": {},
     "output_type": "execute_result"
    }
   ],
   "source": [
    "c"
   ]
  },
  {
   "cell_type": "code",
   "execution_count": 7,
   "id": "86ef28c5-684b-4920-8f08-b689928ef44a",
   "metadata": {
    "tags": []
   },
   "outputs": [
    {
     "name": "stdin",
     "output_type": "stream",
     "text": [
      " 67\n"
     ]
    }
   ],
   "source": [
    "d=int(input())"
   ]
  },
  {
   "cell_type": "code",
   "execution_count": 8,
   "id": "5ca2d83f-7744-4ef7-aaa4-7e69319d0956",
   "metadata": {
    "tags": []
   },
   "outputs": [
    {
     "data": {
      "text/plain": [
       "False"
      ]
     },
     "execution_count": 8,
     "metadata": {},
     "output_type": "execute_result"
    }
   ],
   "source": [
    "c==d"
   ]
  },
  {
   "cell_type": "code",
   "execution_count": 10,
   "id": "5f25bfea-72ba-4e0f-aa15-8f80948fe504",
   "metadata": {
    "tags": []
   },
   "outputs": [
    {
     "data": {
      "text/plain": [
       "True"
      ]
     },
     "execution_count": 10,
     "metadata": {},
     "output_type": "execute_result"
    }
   ],
   "source": [
    "a==c"
   ]
  },
  {
   "cell_type": "code",
   "execution_count": null,
   "id": "b94fd186-6b9f-450e-952a-cdc9fd324fb9",
   "metadata": {},
   "outputs": [],
   "source": []
  }
 ],
 "metadata": {
  "kernelspec": {
   "display_name": "Python 3 (ipykernel)",
   "language": "python",
   "name": "python3"
  },
  "language_info": {
   "codemirror_mode": {
    "name": "ipython",
    "version": 3
   },
   "file_extension": ".py",
   "mimetype": "text/x-python",
   "name": "python",
   "nbconvert_exporter": "python",
   "pygments_lexer": "ipython3",
   "version": "3.11.5"
  }
 },
 "nbformat": 4,
 "nbformat_minor": 5
}
