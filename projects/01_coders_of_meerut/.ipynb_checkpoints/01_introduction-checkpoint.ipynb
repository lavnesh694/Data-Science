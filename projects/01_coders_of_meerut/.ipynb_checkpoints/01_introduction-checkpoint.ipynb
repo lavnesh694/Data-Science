{
 "cells": [
  {
   "cell_type": "code",
   "execution_count": 1,
   "id": "7c7d08c8-c0be-4003-bbef-0e16e670096f",
   "metadata": {},
   "outputs": [],
   "source": [
    "data={\n",
    "    \"users\": [\n",
    "        {\"id\": 1, \"name\": \"Amit\", \"friends\": [2, 3], \"liked_pages\": [101]},\n",
    "        {\"id\": 2, \"name\": \"Priya\", \"friends\": [1, 4], \"liked_pages\": [102]},\n",
    "        {\"id\": 3, \"name\": \"Rahul\", \"friends\": [1], \"liked_pages\": [101, 103]},\n",
    "        {\"id\": 4, \"name\": \"Sara\", \"friends\": [2], \"liked_pages\": [104]}\n",
    "    ],\n",
    "    \"pages\": [\n",
    "        {\"id\": 101, \"name\": \"Python Developers\"},\n",
    "        {\"id\": 102, \"name\": \"Data Science Enthusiasts\"},\n",
    "        {\"id\": 103, \"name\": \"AI & ML Community\"},\n",
    "        {\"id\": 104, \"name\": \"Web Dev Hub\"}\n",
    "    ]\n",
    "}"
   ]
  },
  {
   "cell_type": "code",
   "execution_count": 5,
   "id": "be9c32bb-688f-4347-b7fb-2b61326e96db",
   "metadata": {},
   "outputs": [],
   "source": [
    "import json\n"
   ]
  },
  {
   "cell_type": "code",
   "execution_count": 25,
   "id": "e21b0807-470e-4a68-a3cc-c72b3cdb1f3b",
   "metadata": {},
   "outputs": [],
   "source": [
    "data=json.loads(data)"
   ]
  },
  {
   "cell_type": "code",
   "execution_count": 26,
   "id": "fe13e39e-a791-4d86-af03-6eb5475b7e3d",
   "metadata": {},
   "outputs": [],
   "source": [
    "file.close()"
   ]
  },
  {
   "cell_type": "code",
   "execution_count": 28,
   "id": "dcb4f75d-3c02-46c0-8776-77b10bcb1bca",
   "metadata": {},
   "outputs": [],
   "source": [
    "with open(\"data.json\",\"w\") as file:\n",
    "    json.dump(data,file)"
   ]
  },
  {
   "cell_type": "code",
   "execution_count": 29,
   "id": "c1e12b3a-e9ad-4ce6-a394-6ad5572b6cec",
   "metadata": {},
   "outputs": [
    {
     "data": {
      "text/plain": [
       "dict"
      ]
     },
     "execution_count": 29,
     "metadata": {},
     "output_type": "execute_result"
    }
   ],
   "source": [
    "type(data)"
   ]
  },
  {
   "cell_type": "code",
   "execution_count": 30,
   "id": "3dd3753b-2388-4ea9-9449-d491d3b05d66",
   "metadata": {},
   "outputs": [],
   "source": [
    "def load_data(filename):\n",
    "    with open(filename,\"r\") as f:\n",
    "        data=json.load(f)\n",
    "    return data"
   ]
  },
  {
   "cell_type": "code",
   "execution_count": 31,
   "id": "0a73bf0e-9b12-4749-ae54-fa429b5326f5",
   "metadata": {},
   "outputs": [],
   "source": [
    "data=load_data(\"data.json\")"
   ]
  },
  {
   "cell_type": "code",
   "execution_count": 32,
   "id": "5b1d8421-e933-4e72-af2f-1fa84e17e4da",
   "metadata": {},
   "outputs": [
    {
     "data": {
      "text/plain": [
       "{'users': [{'id': 1, 'name': 'Amit', 'friends': [2, 3], 'liked_pages': [101]},\n",
       "  {'id': 2, 'name': 'Priya', 'friends': [1, 4], 'liked_pages': [102]},\n",
       "  {'id': 3, 'name': 'Rahul', 'friends': [1], 'liked_pages': [101, 103]},\n",
       "  {'id': 4, 'name': 'Sara', 'friends': [2], 'liked_pages': [104]}],\n",
       " 'pages': [{'id': 101, 'name': 'Python Developers'},\n",
       "  {'id': 102, 'name': 'Data Science Enthusiasts'},\n",
       "  {'id': 103, 'name': 'AI & ML Community'},\n",
       "  {'id': 104, 'name': 'Web Dev Hub'}]}"
      ]
     },
     "execution_count": 32,
     "metadata": {},
     "output_type": "execute_result"
    }
   ],
   "source": [
    "data\n"
   ]
  },
  {
   "cell_type": "code",
   "execution_count": 33,
   "id": "ce3d03da-8385-4cde-81e2-4059c240d7c4",
   "metadata": {},
   "outputs": [
    {
     "data": {
      "text/plain": [
       "dict"
      ]
     },
     "execution_count": 33,
     "metadata": {},
     "output_type": "execute_result"
    }
   ],
   "source": [
    "type(data)"
   ]
  },
  {
   "cell_type": "code",
   "execution_count": 50,
   "id": "f4d7e0be-f9d4-4662-8b21-2c11bd75d81b",
   "metadata": {},
   "outputs": [],
   "source": [
    "# write a function to display users and their connection\n",
    "\n",
    "def read(data,friends):\n",
    "    l1=[]\n",
    "    for friend in friends:\n",
    "        for user in data:\n",
    "            if user['id']== friend:\n",
    "                l1.append(user['name'])\n",
    "    return l1\n",
    "    \n",
    "def pages(data,pages):\n",
    "    l1=[]\n",
    "    for page in pages:\n",
    "        for user in data:\n",
    "            if user['id']== page:\n",
    "                l1.append(user['name'])\n",
    "    return l1\n",
    "    \n",
    "def display_users(data):\n",
    "    for user in data['users']:\n",
    "        print( f\"{user['name']} is friend of  {read(data['users'],user['friends'])} and liked pages are {pages(data['pages'],user['liked_pages'])}\")\n",
    "\n",
    "   "
   ]
  },
  {
   "cell_type": "code",
   "execution_count": 51,
   "id": "e40077ae-afd6-4535-8017-a195adc96dee",
   "metadata": {},
   "outputs": [
    {
     "name": "stdout",
     "output_type": "stream",
     "text": [
      "Amit is friend of  ['Priya', 'Rahul'] and liked pages are ['Python Developers']\n",
      "Priya is friend of  ['Amit', 'Sara'] and liked pages are ['Data Science Enthusiasts']\n",
      "Rahul is friend of  ['Amit'] and liked pages are ['Python Developers', 'AI & ML Community']\n",
      "Sara is friend of  ['Priya'] and liked pages are ['Web Dev Hub']\n"
     ]
    }
   ],
   "source": [
    "display_users(data)"
   ]
  },
  {
   "cell_type": "code",
   "execution_count": 52,
   "id": "89683c3c-9ba3-488c-9a81-ba9ce7c6ce1f",
   "metadata": {},
   "outputs": [],
   "source": [
    "data2={\n",
    "    \"users\": [\n",
    "        {\"id\": 1, \"name\": \"Amit\", \"friends\": [2, 3], \"liked_pages\": [101]},\n",
    "        {\"id\": 2, \"name\": \"Priya\", \"friends\": [1, 4], \"liked_pages\": [102]},\n",
    "        {\"id\": 3, \"name\": \"\", \"friends\": [1], \"liked_pages\": [101, 103]},\n",
    "        {\"id\": 4, \"name\": \"Sara\", \"friends\": [2, 2], \"liked_pages\": [104]},\n",
    "        {\"id\": 5, \"name\": \"Amit\", \"friends\": [], \"liked_pages\": []}\n",
    "    ],\n",
    "    \"pages\": [\n",
    "        {\"id\": 101, \"name\": \"Python Developers\"},\n",
    "        {\"id\": 102, \"name\": \"Data Science Enthusiasts\"},\n",
    "        {\"id\": 103, \"name\": \"AI & ML Community\"},\n",
    "        {\"id\": 104, \"name\": \"Web Dev Hub\"},\n",
    "        {\"id\": 104, \"name\": \"Web Development\"}\n",
    "    ]\n",
    "}"
   ]
  },
  {
   "cell_type": "code",
   "execution_count": 53,
   "id": "e4f20bea-9e30-4751-876a-c7d513020141",
   "metadata": {},
   "outputs": [],
   "source": [
    "# now this time we have to handle the missing values\n",
    "\n",
    "with open(\"missing.json\",'w') as file:\n",
    "    json.dump(data2,file)"
   ]
  },
  {
   "cell_type": "code",
   "execution_count": 54,
   "id": "97b32a89-673f-4c7b-a5a2-050e282cbadd",
   "metadata": {},
   "outputs": [],
   "source": [
    "def read_missing_file(data):\n",
    "    with open(\"missing.json\",'r') as file:\n",
    "        content=json.load(file)\n",
    "\n",
    "    return content"
   ]
  },
  {
   "cell_type": "code",
   "execution_count": 55,
   "id": "014bc29b-ccf6-4a87-a9f5-83ac6e036582",
   "metadata": {},
   "outputs": [
    {
     "data": {
      "text/plain": [
       "{'users': [{'id': 1, 'name': 'Amit', 'friends': [2, 3], 'liked_pages': [101]},\n",
       "  {'id': 2, 'name': 'Priya', 'friends': [1, 4], 'liked_pages': [102]},\n",
       "  {'id': 3, 'name': '', 'friends': [1], 'liked_pages': [101, 103]},\n",
       "  {'id': 4, 'name': 'Sara', 'friends': [2, 2], 'liked_pages': [104]},\n",
       "  {'id': 5, 'name': 'Amit', 'friends': [], 'liked_pages': []}],\n",
       " 'pages': [{'id': 101, 'name': 'Python Developers'},\n",
       "  {'id': 102, 'name': 'Data Science Enthusiasts'},\n",
       "  {'id': 103, 'name': 'AI & ML Community'},\n",
       "  {'id': 104, 'name': 'Web Dev Hub'},\n",
       "  {'id': 104, 'name': 'Web Development'}]}"
      ]
     },
     "execution_count": 55,
     "metadata": {},
     "output_type": "execute_result"
    }
   ],
   "source": [
    "read_missing_file(data2)"
   ]
  },
  {
   "cell_type": "code",
   "execution_count": null,
   "id": "c9e8cf01-0592-49a1-a74c-210cb5c14b15",
   "metadata": {},
   "outputs": [],
   "source": []
  }
 ],
 "metadata": {
  "kernelspec": {
   "display_name": "Python 3 (ipykernel)",
   "language": "python",
   "name": "python3"
  },
  "language_info": {
   "codemirror_mode": {
    "name": "ipython",
    "version": 3
   },
   "file_extension": ".py",
   "mimetype": "text/x-python",
   "name": "python",
   "nbconvert_exporter": "python",
   "pygments_lexer": "ipython3",
   "version": "3.11.11"
  }
 },
 "nbformat": 4,
 "nbformat_minor": 5
}
