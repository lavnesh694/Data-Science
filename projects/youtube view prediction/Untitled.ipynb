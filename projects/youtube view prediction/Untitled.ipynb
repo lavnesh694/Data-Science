{
 "cells": [
  {
   "cell_type": "code",
   "execution_count": 1,
   "id": "e73c41b4-684a-441d-9af2-3fe17d758026",
   "metadata": {},
   "outputs": [],
   "source": [
    "import pandas as pd"
   ]
  },
  {
   "cell_type": "code",
   "execution_count": 3,
   "id": "805bb7ab-ac70-4984-aa3a-7f6f29a927ca",
   "metadata": {},
   "outputs": [],
   "source": [
    "df=pd.read_csv(\"youtube_video_views_dataset.csv\")"
   ]
  },
  {
   "cell_type": "code",
   "execution_count": 4,
   "id": "a8347b37-34ed-452a-b20c-174fb376a156",
   "metadata": {},
   "outputs": [
    {
     "name": "stdout",
     "output_type": "stream",
     "text": [
      "<class 'pandas.core.frame.DataFrame'>\n",
      "RangeIndex: 10 entries, 0 to 9\n",
      "Data columns (total 5 columns):\n",
      " #   Column          Non-Null Count  Dtype \n",
      "---  ------          --------------  ----- \n",
      " 0   title           10 non-null     object\n",
      " 1   description     10 non-null     object\n",
      " 2   category        10 non-null     object\n",
      " 3   length_seconds  10 non-null     int64 \n",
      " 4   views           10 non-null     int64 \n",
      "dtypes: int64(2), object(3)\n",
      "memory usage: 532.0+ bytes\n"
     ]
    }
   ],
   "source": [
    "df.info()"
   ]
  },
  {
   "cell_type": "code",
   "execution_count": 5,
   "id": "c62c0fcf-69e0-4839-93e4-67e83ca544c7",
   "metadata": {},
   "outputs": [
    {
     "data": {
      "text/plain": [
       "(10, 5)"
      ]
     },
     "execution_count": 5,
     "metadata": {},
     "output_type": "execute_result"
    }
   ],
   "source": [
    "df.shape"
   ]
  },
  {
   "cell_type": "code",
   "execution_count": 6,
   "id": "9a4f8a39-14b9-44f7-9358-a1406d9e598d",
   "metadata": {},
   "outputs": [
    {
     "data": {
      "text/html": [
       "<div>\n",
       "<style scoped>\n",
       "    .dataframe tbody tr th:only-of-type {\n",
       "        vertical-align: middle;\n",
       "    }\n",
       "\n",
       "    .dataframe tbody tr th {\n",
       "        vertical-align: top;\n",
       "    }\n",
       "\n",
       "    .dataframe thead th {\n",
       "        text-align: right;\n",
       "    }\n",
       "</style>\n",
       "<table border=\"1\" class=\"dataframe\">\n",
       "  <thead>\n",
       "    <tr style=\"text-align: right;\">\n",
       "      <th></th>\n",
       "      <th>title</th>\n",
       "      <th>description</th>\n",
       "      <th>category</th>\n",
       "      <th>length_seconds</th>\n",
       "      <th>views</th>\n",
       "    </tr>\n",
       "  </thead>\n",
       "  <tbody>\n",
       "    <tr>\n",
       "      <th>0</th>\n",
       "      <td>Learn Python in 10 Minutes</td>\n",
       "      <td>A quick guide to get started with Python progr...</td>\n",
       "      <td>Education</td>\n",
       "      <td>600</td>\n",
       "      <td>15000</td>\n",
       "    </tr>\n",
       "    <tr>\n",
       "      <th>1</th>\n",
       "      <td>Top 10 AI Tools 2025</td>\n",
       "      <td>Check out the latest AI tools you should use i...</td>\n",
       "      <td>Technology</td>\n",
       "      <td>480</td>\n",
       "      <td>24000</td>\n",
       "    </tr>\n",
       "    <tr>\n",
       "      <th>2</th>\n",
       "      <td>Healthy Diet Tips</td>\n",
       "      <td>Simple and effective diet tips for a healthier...</td>\n",
       "      <td>Health</td>\n",
       "      <td>420</td>\n",
       "      <td>18000</td>\n",
       "    </tr>\n",
       "    <tr>\n",
       "      <th>3</th>\n",
       "      <td>Introduction to Data Science</td>\n",
       "      <td>Everything you need to know about Data Science...</td>\n",
       "      <td>Education</td>\n",
       "      <td>900</td>\n",
       "      <td>22000</td>\n",
       "    </tr>\n",
       "    <tr>\n",
       "      <th>4</th>\n",
       "      <td>Best Workout for Fat Loss</td>\n",
       "      <td>This workout plan helps you lose fat efficiently.</td>\n",
       "      <td>Health</td>\n",
       "      <td>720</td>\n",
       "      <td>20000</td>\n",
       "    </tr>\n",
       "    <tr>\n",
       "      <th>5</th>\n",
       "      <td>Full Stack Development Roadmap</td>\n",
       "      <td>Step-by-step roadmap to become a full stack de...</td>\n",
       "      <td>Technology</td>\n",
       "      <td>840</td>\n",
       "      <td>26000</td>\n",
       "    </tr>\n",
       "    <tr>\n",
       "      <th>6</th>\n",
       "      <td>Study Tips for Students</td>\n",
       "      <td>Boost your academic performance with these tips.</td>\n",
       "      <td>Education</td>\n",
       "      <td>300</td>\n",
       "      <td>13000</td>\n",
       "    </tr>\n",
       "    <tr>\n",
       "      <th>7</th>\n",
       "      <td>How to Meditate Effectively</td>\n",
       "      <td>Learn how to meditate with this simple guide.</td>\n",
       "      <td>Health</td>\n",
       "      <td>360</td>\n",
       "      <td>16000</td>\n",
       "    </tr>\n",
       "    <tr>\n",
       "      <th>8</th>\n",
       "      <td>Cloud Computing Explained</td>\n",
       "      <td>What is cloud computing? Explained in simple t...</td>\n",
       "      <td>Technology</td>\n",
       "      <td>780</td>\n",
       "      <td>25000</td>\n",
       "    </tr>\n",
       "    <tr>\n",
       "      <th>9</th>\n",
       "      <td>Investing for Beginners</td>\n",
       "      <td>Start your investing journey with these easy s...</td>\n",
       "      <td>Finance</td>\n",
       "      <td>660</td>\n",
       "      <td>21000</td>\n",
       "    </tr>\n",
       "  </tbody>\n",
       "</table>\n",
       "</div>"
      ],
      "text/plain": [
       "                            title  \\\n",
       "0      Learn Python in 10 Minutes   \n",
       "1            Top 10 AI Tools 2025   \n",
       "2               Healthy Diet Tips   \n",
       "3    Introduction to Data Science   \n",
       "4       Best Workout for Fat Loss   \n",
       "5  Full Stack Development Roadmap   \n",
       "6         Study Tips for Students   \n",
       "7     How to Meditate Effectively   \n",
       "8       Cloud Computing Explained   \n",
       "9         Investing for Beginners   \n",
       "\n",
       "                                         description    category  \\\n",
       "0  A quick guide to get started with Python progr...   Education   \n",
       "1  Check out the latest AI tools you should use i...  Technology   \n",
       "2  Simple and effective diet tips for a healthier...      Health   \n",
       "3  Everything you need to know about Data Science...   Education   \n",
       "4  This workout plan helps you lose fat efficiently.      Health   \n",
       "5  Step-by-step roadmap to become a full stack de...  Technology   \n",
       "6   Boost your academic performance with these tips.   Education   \n",
       "7      Learn how to meditate with this simple guide.      Health   \n",
       "8  What is cloud computing? Explained in simple t...  Technology   \n",
       "9  Start your investing journey with these easy s...     Finance   \n",
       "\n",
       "   length_seconds  views  \n",
       "0             600  15000  \n",
       "1             480  24000  \n",
       "2             420  18000  \n",
       "3             900  22000  \n",
       "4             720  20000  \n",
       "5             840  26000  \n",
       "6             300  13000  \n",
       "7             360  16000  \n",
       "8             780  25000  \n",
       "9             660  21000  "
      ]
     },
     "execution_count": 6,
     "metadata": {},
     "output_type": "execute_result"
    }
   ],
   "source": [
    "df"
   ]
  },
  {
   "cell_type": "code",
   "execution_count": null,
   "id": "6aa6f630-305b-482c-80e9-8df6a382f7bb",
   "metadata": {},
   "outputs": [],
   "source": []
  }
 ],
 "metadata": {
  "kernelspec": {
   "display_name": "Python 3 (ipykernel)",
   "language": "python",
   "name": "python3"
  },
  "language_info": {
   "codemirror_mode": {
    "name": "ipython",
    "version": 3
   },
   "file_extension": ".py",
   "mimetype": "text/x-python",
   "name": "python",
   "nbconvert_exporter": "python",
   "pygments_lexer": "ipython3",
   "version": "3.11.11"
  }
 },
 "nbformat": 4,
 "nbformat_minor": 5
}
