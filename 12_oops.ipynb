{
 "cells": [
  {
   "cell_type": "markdown",
   "id": "c97bb945-ab27-4ff4-87cc-79f51ffbb0f4",
   "metadata": {},
   "source": [
    "# oops"
   ]
  },
  {
   "cell_type": "code",
   "execution_count": 5,
   "id": "322c8509-bf88-4387-9bd2-2aee84f8295d",
   "metadata": {},
   "outputs": [
    {
     "name": "stdout",
     "output_type": "stream",
     "text": [
      "The company of lk boss  is Realme with salary 4588888$ \n"
     ]
    }
   ],
   "source": [
    "class employee:\n",
    "    company=\"Realme\"\n",
    "  \n",
    "\n",
    "    def __init__(self,name,sal):\n",
    "        self.name=name\n",
    "        self.sal=sal\n",
    "    def printdetail(self):\n",
    "        print(f\"The company of {self.name}  is {self.company} with salary {self.sal}$ \")\n",
    "        \n",
    "\n",
    "e=employee(\"lk boss\",\"4588888\")\n",
    "e.printdetail()"
   ]
  },
  {
   "cell_type": "markdown",
   "id": "4444391b-63fa-4ec9-8af9-6102fa867244",
   "metadata": {},
   "source": [
    "# Bank aacount using encapculation"
   ]
  },
  {
   "cell_type": "code",
   "execution_count": 11,
   "id": "88841244-981b-4d37-9c17-26d80a1d85e2",
   "metadata": {},
   "outputs": [
    {
     "name": "stdout",
     "output_type": "stream",
     "text": [
      "54000\n"
     ]
    }
   ],
   "source": [
    "class Bank:\n",
    "    def __init__(self,balance):\n",
    "        self.__balance=balance;\n",
    "\n",
    "    def __getbalance__(self):\n",
    "        print(self.__balance);\n",
    "\n",
    "    def deposit(self,money):\n",
    "        self.__balance+=money\n",
    "\n",
    "ramesh=Bank(50000)\n",
    "# getbalance()\n",
    "ramesh.deposit(4000)\n",
    "ramesh.__getbalance__()"
   ]
  },
  {
   "cell_type": "code",
   "execution_count": 12,
   "id": "9bb241bf-9237-4df4-ae2b-2ac7333f3164",
   "metadata": {},
   "outputs": [
    {
     "name": "stdout",
     "output_type": "stream",
     "text": [
      "dog can bark\n"
     ]
    }
   ],
   "source": [
    "class Animal:\n",
    "    def speak(self):\n",
    "        return \"Animal makes a sound\"\n",
    "\n",
    "class dog(Animal):\n",
    "    def speak(self):\n",
    "        return \"dog can bark\"\n",
    "\n",
    "Dog=dog()\n",
    "\n",
    "print(Dog.speak())"
   ]
  },
  {
   "cell_type": "markdown",
   "id": "66aea151-d60c-4219-b68f-2852ae42a45d",
   "metadata": {},
   "source": [
    "# abstraction is used to define a method without implementing in the base class"
   ]
  },
  {
   "cell_type": "code",
   "execution_count": 16,
   "id": "1327b63b-2d8b-49c5-8500-64c1ba6f2059",
   "metadata": {},
   "outputs": [
    {
     "name": "stdout",
     "output_type": "stream",
     "text": [
      "16\n"
     ]
    }
   ],
   "source": [
    "from abc import ABC,abstractmethod\n",
    "\n",
    "class Shape(ABC):\n",
    "    @abstractmethod\n",
    "    def area(self):\n",
    "        pass\n",
    "\n",
    "class Square(Shape):\n",
    "    def __init__(self,side):\n",
    "        self.side=side\n",
    "\n",
    "    def area(self):\n",
    "        return self.side * self.side\n",
    "\n",
    "square=Square(4)\n",
    "print(square.area())"
   ]
  },
  {
   "cell_type": "code",
   "execution_count": 17,
   "id": "98f5e505-dc2c-444f-beef-fa8ed484c8d3",
   "metadata": {},
   "outputs": [
    {
     "name": "stdout",
     "output_type": "stream",
     "text": [
      "Book: Python Basics\n",
      "300\n"
     ]
    }
   ],
   "source": [
    "class Book:\n",
    "    def __init__(self, title, pages):\n",
    "        self.title = title\n",
    "        self.pages = pages\n",
    "\n",
    "    def __str__(self):  # String representation\n",
    "        return f\"Book: {self.title}\"\n",
    "\n",
    "    def __len__(self):  # Define behavior for len()\n",
    "        return self.pages\n",
    "\n",
    "book = Book(\"Python Basics\", 300)\n",
    "print(str(book))  # Output: Book: Python Basics\n",
    "print(len(book))  # Output: 300"
   ]
  },
  {
   "cell_type": "code",
   "execution_count": null,
   "id": "8f6a9e4d-3386-4e33-b330-5de6c143b197",
   "metadata": {},
   "outputs": [],
   "source": []
  }
 ],
 "metadata": {
  "kernelspec": {
   "display_name": "Python 3 (ipykernel)",
   "language": "python",
   "name": "python3"
  },
  "language_info": {
   "codemirror_mode": {
    "name": "ipython",
    "version": 3
   },
   "file_extension": ".py",
   "mimetype": "text/x-python",
   "name": "python",
   "nbconvert_exporter": "python",
   "pygments_lexer": "ipython3",
   "version": "3.11.11"
  }
 },
 "nbformat": 4,
 "nbformat_minor": 5
}
