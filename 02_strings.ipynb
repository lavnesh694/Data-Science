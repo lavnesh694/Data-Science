{
 "cells": [
  {
   "cell_type": "markdown",
   "id": "ead7cb42-a1a7-43dd-8e3a-48a2561bb570",
   "metadata": {},
   "source": [
    "## strings"
   ]
  },
  {
   "cell_type": "code",
   "execution_count": 1,
   "id": "84de2aff-2224-48fb-b842-51fe38dd1fdc",
   "metadata": {
    "tags": []
   },
   "outputs": [],
   "source": [
    "name=\"lavnesh\""
   ]
  },
  {
   "cell_type": "code",
   "execution_count": 2,
   "id": "9508b09a-bcd1-417f-877b-e83949d2cbc6",
   "metadata": {
    "tags": []
   },
   "outputs": [
    {
     "data": {
      "text/plain": [
       "'LAVNESH'"
      ]
     },
     "execution_count": 2,
     "metadata": {},
     "output_type": "execute_result"
    }
   ],
   "source": [
    "name.upper()"
   ]
  },
  {
   "cell_type": "code",
   "execution_count": 3,
   "id": "59c3e9e4-6a54-47fa-b2de-95d7edada888",
   "metadata": {
    "tags": []
   },
   "outputs": [
    {
     "data": {
      "text/plain": [
       "True"
      ]
     },
     "execution_count": 3,
     "metadata": {},
     "output_type": "execute_result"
    }
   ],
   "source": [
    "name.endswith(\"sh\")"
   ]
  },
  {
   "cell_type": "code",
   "execution_count": 4,
   "id": "8a92642b-b8d1-4fd3-b34f-f21da04e4526",
   "metadata": {
    "tags": []
   },
   "outputs": [
    {
     "data": {
      "text/plain": [
       "'lavnesh'"
      ]
     },
     "execution_count": 4,
     "metadata": {},
     "output_type": "execute_result"
    }
   ],
   "source": [
    "name.lower()"
   ]
  },
  {
   "cell_type": "code",
   "execution_count": 5,
   "id": "8d4b364d-5538-4b40-af1a-f6abbe23ed44",
   "metadata": {
    "tags": []
   },
   "outputs": [
    {
     "data": {
      "text/plain": [
       "1"
      ]
     },
     "execution_count": 5,
     "metadata": {},
     "output_type": "execute_result"
    }
   ],
   "source": [
    "name.count(\"a\")"
   ]
  },
  {
   "cell_type": "code",
   "execution_count": 6,
   "id": "f84b8e46-6051-4455-ad3c-594bb06cfa1b",
   "metadata": {
    "tags": []
   },
   "outputs": [
    {
     "data": {
      "text/plain": [
       "0"
      ]
     },
     "execution_count": 6,
     "metadata": {},
     "output_type": "execute_result"
    }
   ],
   "source": [
    "name.count(\"p\")"
   ]
  },
  {
   "cell_type": "code",
   "execution_count": 7,
   "id": "d8c7ccd1-b580-4db9-9b9a-b7a803069737",
   "metadata": {
    "tags": []
   },
   "outputs": [
    {
     "data": {
      "text/plain": [
       "'Lavnesh'"
      ]
     },
     "execution_count": 7,
     "metadata": {},
     "output_type": "execute_result"
    }
   ],
   "source": [
    "name.capitalize()"
   ]
  },
  {
   "cell_type": "code",
   "execution_count": 9,
   "id": "ff21eeb7-830f-47b8-982e-17844ff68398",
   "metadata": {
    "tags": []
   },
   "outputs": [
    {
     "data": {
      "text/plain": [
       "'lavne'"
      ]
     },
     "execution_count": 9,
     "metadata": {},
     "output_type": "execute_result"
    }
   ],
   "source": [
    "name[0:5] #sring indices"
   ]
  },
  {
   "cell_type": "code",
   "execution_count": 11,
   "id": "d2ebcb63-4781-4a53-a933-721b881ccf27",
   "metadata": {
    "tags": []
   },
   "outputs": [
    {
     "data": {
      "text/plain": [
       "'avnes'"
      ]
     },
     "execution_count": 11,
     "metadata": {},
     "output_type": "execute_result"
    }
   ],
   "source": [
    "name[1:-1]"
   ]
  },
  {
   "cell_type": "code",
   "execution_count": null,
   "id": "ddbd182e-e9ad-4b44-a5e2-986d4a46a053",
   "metadata": {},
   "outputs": [],
   "source": []
  }
 ],
 "metadata": {
  "kernelspec": {
   "display_name": "Python 3 (ipykernel)",
   "language": "python",
   "name": "python3"
  },
  "language_info": {
   "codemirror_mode": {
    "name": "ipython",
    "version": 3
   },
   "file_extension": ".py",
   "mimetype": "text/x-python",
   "name": "python",
   "nbconvert_exporter": "python",
   "pygments_lexer": "ipython3",
   "version": "3.11.5"
  }
 },
 "nbformat": 4,
 "nbformat_minor": 5
}
