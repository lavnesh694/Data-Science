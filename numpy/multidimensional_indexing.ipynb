{
 "cells": [
  {
   "cell_type": "markdown",
   "id": "1eb42fdf-b5c4-413a-9aa6-08bbb5da30d2",
   "metadata": {},
   "source": [
    "# MULTIDIMENSION ARRAY"
   ]
  },
  {
   "cell_type": "code",
   "execution_count": 3,
   "id": "754e989e-fe62-493e-8903-61d945c910eb",
   "metadata": {},
   "outputs": [
    {
     "data": {
      "text/plain": [
       "array([[1, 2, 3],\n",
       "       [4, 5, 6],\n",
       "       [7, 8, 9]])"
      ]
     },
     "execution_count": 3,
     "metadata": {},
     "output_type": "execute_result"
    }
   ],
   "source": [
    "import numpy as np\n",
    "arr= np.arange(1,10,1)\n",
    "arr= arr.reshape(3,3)\n",
    "arr\n",
    "\n"
   ]
  },
  {
   "cell_type": "code",
   "execution_count": 5,
   "id": "e876384d-c2d4-47ce-85aa-623a4a431cae",
   "metadata": {},
   "outputs": [
    {
     "data": {
      "text/plain": [
       "array([12, 15, 18])"
      ]
     },
     "execution_count": 5,
     "metadata": {},
     "output_type": "execute_result"
    }
   ],
   "source": [
    "np.sum(arr,axis=0)"
   ]
  },
  {
   "cell_type": "code",
   "execution_count": 10,
   "id": "9b8eaa77-d465-4e06-a43d-636690eafbce",
   "metadata": {},
   "outputs": [
    {
     "data": {
      "text/plain": [
       "array([[4, 5, 6],\n",
       "       [7, 8, 9]])"
      ]
     },
     "execution_count": 10,
     "metadata": {},
     "output_type": "execute_result"
    }
   ],
   "source": [
    "arr[1:3 , 0:3]"
   ]
  },
  {
   "cell_type": "markdown",
   "id": "426edcbb-e390-4dfa-b445-0f764c637005",
   "metadata": {},
   "source": [
    "# Broad casting"
   ]
  },
  {
   "cell_type": "code",
   "execution_count": null,
   "id": "7d529533-da2c-48b7-8b1c-5239cb22a675",
   "metadata": {},
   "outputs": [],
   "source": []
  }
 ],
 "metadata": {
  "kernelspec": {
   "display_name": "Python 3 (ipykernel)",
   "language": "python",
   "name": "python3"
  },
  "language_info": {
   "codemirror_mode": {
    "name": "ipython",
    "version": 3
   },
   "file_extension": ".py",
   "mimetype": "text/x-python",
   "name": "python",
   "nbconvert_exporter": "python",
   "pygments_lexer": "ipython3",
   "version": "3.11.11"
  }
 },
 "nbformat": 4,
 "nbformat_minor": 5
}
