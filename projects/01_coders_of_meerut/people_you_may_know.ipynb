{
 "cells": [
  {
   "cell_type": "code",
   "execution_count": 1,
   "id": "188117ac-4e31-4bae-968e-f365d94ffe1e",
   "metadata": {},
   "outputs": [],
   "source": [
    "massive_data={\n",
    "    \"users\": [\n",
    "        {\"id\": 1, \"name\": \"Amit\", \"friends\": [2, 3, 4, 5, 6], \"liked_pages\": [101, 102]},\n",
    "        {\"id\": 2, \"name\": \"Priya\", \"friends\": [1, 3, 5, 6, 7], \"liked_pages\": [102, 103]},\n",
    "        {\"id\": 3, \"name\": \"Rahul\", \"friends\": [1, 2, 4, 7, 8], \"liked_pages\": [101, 103]},\n",
    "        {\"id\": 4, \"name\": \"Sara\", \"friends\": [1, 3, 6, 8, 9], \"liked_pages\": [104]},\n",
    "        {\"id\": 5, \"name\": \"Neha\", \"friends\": [1, 2, 6, 10, 11], \"liked_pages\": [102, 105]},\n",
    "        {\"id\": 6, \"name\": \"Vikram\", \"friends\": [1, 2, 4, 5, 12], \"liked_pages\": [106]},\n",
    "        {\"id\": 7, \"name\": \"Kunal\", \"friends\": [2, 3, 8, 9, 13], \"liked_pages\": [101, 107]},\n",
    "        {\"id\": 8, \"name\": \"Anjali\", \"friends\": [3, 4, 7, 10, 14], \"liked_pages\": [103, 108]},\n",
    "        {\"id\": 9, \"name\": \"Ravi\", \"friends\": [4, 7, 10, 11, 15], \"liked_pages\": [104, 109]},\n",
    "        {\"id\": 10, \"name\": \"Sneha\", \"friends\": [5, 8, 9, 12, 16], \"liked_pages\": [110]},\n",
    "        {\"id\": 11, \"name\": \"Arjun\", \"friends\": [5, 9, 12, 14, 17], \"liked_pages\": [105, 111]},\n",
    "        {\"id\": 12, \"name\": \"Meera\", \"friends\": [6, 10, 11, 13, 18], \"liked_pages\": [112]},\n",
    "        {\"id\": 13, \"name\": \"Kabir\", \"friends\": [7, 12, 14, 15, 19], \"liked_pages\": [106, 113]},\n",
    "        {\"id\": 14, \"name\": \"Tanya\", \"friends\": [8, 11, 13, 16, 20], \"liked_pages\": [114]},\n",
    "        {\"id\": 15, \"name\": \"Varun\", \"friends\": [9, 13, 16, 17, 21], \"liked_pages\": [107, 115]},\n",
    "        {\"id\": 16, \"name\": \"Rhea\", \"friends\": [10, 14, 15, 18, 22], \"liked_pages\": [116]},\n",
    "        {\"id\": 17, \"name\": \"Ishan\", \"friends\": [11, 15, 18, 19, 23], \"liked_pages\": [108, 117]},\n",
    "        {\"id\": 18, \"name\": \"Simran\", \"friends\": [12, 16, 17, 20, 24], \"liked_pages\": [118]},\n",
    "        {\"id\": 19, \"name\": \"Pooja\", \"friends\": [13, 17, 20, 21, 25], \"liked_pages\": [109, 119]},\n",
    "        {\"id\": 20, \"name\": \"Yash\", \"friends\": [14, 18, 19, 22, 26], \"liked_pages\": [120]},\n",
    "        {\"id\": 21, \"name\": \"Ananya\", \"friends\": [15, 19, 22, 23, 27], \"liked_pages\": [110, 121]},\n",
    "        {\"id\": 22, \"name\": \"Dev\", \"friends\": [16, 20, 21, 24, 28], \"liked_pages\": [122]},\n",
    "        {\"id\": 23, \"name\": \"Aditi\", \"friends\": [17, 21, 24, 25, 29], \"liked_pages\": [111, 123]},\n",
    "        {\"id\": 24, \"name\": \"Rohan\", \"friends\": [18, 22, 23, 26, 30], \"liked_pages\": [124]},\n",
    "        {\"id\": 25, \"name\": \"Nisha\", \"friends\": [19, 23, 26, 27, 1], \"liked_pages\": [112]},\n",
    "        {\"id\": 26, \"name\": \"Gautam\", \"friends\": [20, 24, 25, 28, 3], \"liked_pages\": [125]},\n",
    "        {\"id\": 27, \"name\": \"Kriti\", \"friends\": [21, 25, 28, 29, 5], \"liked_pages\": [113]},\n",
    "        {\"id\": 28, \"name\": \"Harsh\", \"friends\": [22, 26, 27, 30, 7], \"liked_pages\": [126]},\n",
    "        {\"id\": 29, \"name\": \"Naveen\", \"friends\": [23, 27, 30, 9, 11], \"liked_pages\": [114]},\n",
    "        {\"id\": 30, \"name\": \"Ishita\", \"friends\": [24, 28, 29, 13, 15], \"liked_pages\": [127]}\n",
    "    ],\n",
    "    \"pages\": [\n",
    "        {\"id\": 101, \"name\": \"Python Developers\"},\n",
    "        {\"id\": 102, \"name\": \"Data Science Enthusiasts\"},\n",
    "        {\"id\": 103, \"name\": \"AI & ML Community\"},\n",
    "        {\"id\": 104, \"name\": \"Web Dev Hub\"},\n",
    "        {\"id\": 105, \"name\": \"Blockchain Innovators\"},\n",
    "        {\"id\": 106, \"name\": \"Cybersecurity Experts\"},\n",
    "        {\"id\": 107, \"name\": \"Cloud Computing Pros\"},\n",
    "        {\"id\": 108, \"name\": \"Competitive Programmers\"},\n",
    "        {\"id\": 109, \"name\": \"Startup Founders\"},\n",
    "        {\"id\": 110, \"name\": \"UI/UX Designers\"},\n",
    "        {\"id\": 111, \"name\": \"Full-Stack Developers\"},\n",
    "        {\"id\": 112, \"name\": \"Tech Entrepreneurs\"},\n",
    "        {\"id\": 113, \"name\": \"IoT Enthusiasts\"},\n",
    "        {\"id\": 114, \"name\": \"Game Developers\"},\n",
    "        {\"id\": 115, \"name\": \"Big Data Analysts\"},\n",
    "        {\"id\": 116, \"name\": \"DevOps Engineers\"},\n",
    "        {\"id\": 117, \"name\": \"Cloud AI Researchers\"},\n",
    "        {\"id\": 118, \"name\": \"5G & Edge Computing\"},\n",
    "        {\"id\": 119, \"name\": \"AR/VR Creators\"},\n",
    "        {\"id\": 120, \"name\": \"Freelance Coders\"},\n",
    "        {\"id\": 121, \"name\": \"Open Source Contributors\"},\n",
    "        {\"id\": 122, \"name\": \"Algorithmic Traders\"},\n",
    "        {\"id\": 123, \"name\": \"Low-Code Developers\"},\n",
    "        {\"id\": 124, \"name\": \"Cyber Ethics Forum\"},\n",
    "        {\"id\": 125, \"name\": \"AI Ethics & Policy\"},\n",
    "        {\"id\": 126, \"name\": \"Digital Nomads\"},\n",
    "        {\"id\": 127, \"name\": \"Women in Tech\"}\n",
    "    ]\n",
    "}\n",
    "\n",
    "\n"
   ]
  },
  {
   "cell_type": "code",
   "execution_count": 2,
   "id": "e044be68-7762-490d-8678-52e89084fe8d",
   "metadata": {},
   "outputs": [],
   "source": [
    "import json\n",
    "with open(\"massive_data.json\",\"w\") as file:\n",
    "    json.dump(massive_data,file)"
   ]
  },
  {
   "cell_type": "code",
   "execution_count": 30,
   "id": "a1fce810-69f3-44ec-8979-e3dc17ad1436",
   "metadata": {},
   "outputs": [],
   "source": [
    "def people_you_may_know(data,user_id):\n",
    "    user_friends={}\n",
    "    for user in data['users']:\n",
    "        user_friends[user['id']]=user['friends']\n",
    "\n",
    "    if user_id not in user_friends:\n",
    "        return []\n",
    "\n",
    "    direct_friends=user_friends[user_id]\n",
    "\n",
    "    suggesstion={}\n",
    "\n",
    "    for friend in direct_friends:\n",
    "        for mutual in user_friends[friend]:\n",
    "            if mutual != user_id and mutual not in direct_friends:\n",
    "                suggesstion[mutual]=suggesstion.get(mutual,0)+1\n",
    "\n",
    "\n",
    "    sorted_suggestion = sorted(suggesstion.items(),key=lambda x:x[1],reverse=True)\n",
    "\n",
    "    return [user_id for user_id, _ in sorted_suggestion]\n"
   ]
  },
  {
   "cell_type": "code",
   "execution_count": 36,
   "id": "62cb55aa-e018-45f4-adcc-693fabd82d1f",
   "metadata": {},
   "outputs": [],
   "source": [
    "user_id=10\n",
    "\n",
    "recc=people_you_may_know(json.load(open(\"massive_data.json\")),user_id)"
   ]
  },
  {
   "cell_type": "code",
   "execution_count": 37,
   "id": "0ae79c95-0092-4cb9-afb1-32de455a3078",
   "metadata": {},
   "outputs": [
    {
     "name": "stdout",
     "output_type": "stream",
     "text": [
      "peopeple you want to know [11, 6, 4, 7, 14, 15, 18, 1, 2, 3, 13, 22]\n"
     ]
    }
   ],
   "source": [
    "print(f\"peopeple you want to know {recc}\")"
   ]
  },
  {
   "cell_type": "markdown",
   "id": "00690fa9-932b-4507-8ad3-23ef9f5ac95f",
   "metadata": {},
   "source": [
    "# Now this time finding people you may like "
   ]
  },
  {
   "cell_type": "code",
   "execution_count": 38,
   "id": "74c27442-a603-4a79-9188-6dfe9da60035",
   "metadata": {},
   "outputs": [],
   "source": [
    "data = json.load(open(\"massive_data.json\"))"
   ]
  },
  {
   "cell_type": "code",
   "execution_count": 39,
   "id": "b174450b-5be3-4ac8-ac5d-a1dbee52b41e",
   "metadata": {},
   "outputs": [
    {
     "data": {
      "text/plain": [
       "{'users': [{'id': 1,\n",
       "   'name': 'Amit',\n",
       "   'friends': [2, 3, 4, 5, 6],\n",
       "   'liked_pages': [101, 102]},\n",
       "  {'id': 2,\n",
       "   'name': 'Priya',\n",
       "   'friends': [1, 3, 5, 6, 7],\n",
       "   'liked_pages': [102, 103]},\n",
       "  {'id': 3,\n",
       "   'name': 'Rahul',\n",
       "   'friends': [1, 2, 4, 7, 8],\n",
       "   'liked_pages': [101, 103]},\n",
       "  {'id': 4, 'name': 'Sara', 'friends': [1, 3, 6, 8, 9], 'liked_pages': [104]},\n",
       "  {'id': 5,\n",
       "   'name': 'Neha',\n",
       "   'friends': [1, 2, 6, 10, 11],\n",
       "   'liked_pages': [102, 105]},\n",
       "  {'id': 6,\n",
       "   'name': 'Vikram',\n",
       "   'friends': [1, 2, 4, 5, 12],\n",
       "   'liked_pages': [106]},\n",
       "  {'id': 7,\n",
       "   'name': 'Kunal',\n",
       "   'friends': [2, 3, 8, 9, 13],\n",
       "   'liked_pages': [101, 107]},\n",
       "  {'id': 8,\n",
       "   'name': 'Anjali',\n",
       "   'friends': [3, 4, 7, 10, 14],\n",
       "   'liked_pages': [103, 108]},\n",
       "  {'id': 9,\n",
       "   'name': 'Ravi',\n",
       "   'friends': [4, 7, 10, 11, 15],\n",
       "   'liked_pages': [104, 109]},\n",
       "  {'id': 10,\n",
       "   'name': 'Sneha',\n",
       "   'friends': [5, 8, 9, 12, 16],\n",
       "   'liked_pages': [110]},\n",
       "  {'id': 11,\n",
       "   'name': 'Arjun',\n",
       "   'friends': [5, 9, 12, 14, 17],\n",
       "   'liked_pages': [105, 111]},\n",
       "  {'id': 12,\n",
       "   'name': 'Meera',\n",
       "   'friends': [6, 10, 11, 13, 18],\n",
       "   'liked_pages': [112]},\n",
       "  {'id': 13,\n",
       "   'name': 'Kabir',\n",
       "   'friends': [7, 12, 14, 15, 19],\n",
       "   'liked_pages': [106, 113]},\n",
       "  {'id': 14,\n",
       "   'name': 'Tanya',\n",
       "   'friends': [8, 11, 13, 16, 20],\n",
       "   'liked_pages': [114]},\n",
       "  {'id': 15,\n",
       "   'name': 'Varun',\n",
       "   'friends': [9, 13, 16, 17, 21],\n",
       "   'liked_pages': [107, 115]},\n",
       "  {'id': 16,\n",
       "   'name': 'Rhea',\n",
       "   'friends': [10, 14, 15, 18, 22],\n",
       "   'liked_pages': [116]},\n",
       "  {'id': 17,\n",
       "   'name': 'Ishan',\n",
       "   'friends': [11, 15, 18, 19, 23],\n",
       "   'liked_pages': [108, 117]},\n",
       "  {'id': 18,\n",
       "   'name': 'Simran',\n",
       "   'friends': [12, 16, 17, 20, 24],\n",
       "   'liked_pages': [118]},\n",
       "  {'id': 19,\n",
       "   'name': 'Pooja',\n",
       "   'friends': [13, 17, 20, 21, 25],\n",
       "   'liked_pages': [109, 119]},\n",
       "  {'id': 20,\n",
       "   'name': 'Yash',\n",
       "   'friends': [14, 18, 19, 22, 26],\n",
       "   'liked_pages': [120]},\n",
       "  {'id': 21,\n",
       "   'name': 'Ananya',\n",
       "   'friends': [15, 19, 22, 23, 27],\n",
       "   'liked_pages': [110, 121]},\n",
       "  {'id': 22,\n",
       "   'name': 'Dev',\n",
       "   'friends': [16, 20, 21, 24, 28],\n",
       "   'liked_pages': [122]},\n",
       "  {'id': 23,\n",
       "   'name': 'Aditi',\n",
       "   'friends': [17, 21, 24, 25, 29],\n",
       "   'liked_pages': [111, 123]},\n",
       "  {'id': 24,\n",
       "   'name': 'Rohan',\n",
       "   'friends': [18, 22, 23, 26, 30],\n",
       "   'liked_pages': [124]},\n",
       "  {'id': 25,\n",
       "   'name': 'Nisha',\n",
       "   'friends': [19, 23, 26, 27, 1],\n",
       "   'liked_pages': [112]},\n",
       "  {'id': 26,\n",
       "   'name': 'Gautam',\n",
       "   'friends': [20, 24, 25, 28, 3],\n",
       "   'liked_pages': [125]},\n",
       "  {'id': 27,\n",
       "   'name': 'Kriti',\n",
       "   'friends': [21, 25, 28, 29, 5],\n",
       "   'liked_pages': [113]},\n",
       "  {'id': 28,\n",
       "   'name': 'Harsh',\n",
       "   'friends': [22, 26, 27, 30, 7],\n",
       "   'liked_pages': [126]},\n",
       "  {'id': 29,\n",
       "   'name': 'Naveen',\n",
       "   'friends': [23, 27, 30, 9, 11],\n",
       "   'liked_pages': [114]},\n",
       "  {'id': 30,\n",
       "   'name': 'Ishita',\n",
       "   'friends': [24, 28, 29, 13, 15],\n",
       "   'liked_pages': [127]}],\n",
       " 'pages': [{'id': 101, 'name': 'Python Developers'},\n",
       "  {'id': 102, 'name': 'Data Science Enthusiasts'},\n",
       "  {'id': 103, 'name': 'AI & ML Community'},\n",
       "  {'id': 104, 'name': 'Web Dev Hub'},\n",
       "  {'id': 105, 'name': 'Blockchain Innovators'},\n",
       "  {'id': 106, 'name': 'Cybersecurity Experts'},\n",
       "  {'id': 107, 'name': 'Cloud Computing Pros'},\n",
       "  {'id': 108, 'name': 'Competitive Programmers'},\n",
       "  {'id': 109, 'name': 'Startup Founders'},\n",
       "  {'id': 110, 'name': 'UI/UX Designers'},\n",
       "  {'id': 111, 'name': 'Full-Stack Developers'},\n",
       "  {'id': 112, 'name': 'Tech Entrepreneurs'},\n",
       "  {'id': 113, 'name': 'IoT Enthusiasts'},\n",
       "  {'id': 114, 'name': 'Game Developers'},\n",
       "  {'id': 115, 'name': 'Big Data Analysts'},\n",
       "  {'id': 116, 'name': 'DevOps Engineers'},\n",
       "  {'id': 117, 'name': 'Cloud AI Researchers'},\n",
       "  {'id': 118, 'name': '5G & Edge Computing'},\n",
       "  {'id': 119, 'name': 'AR/VR Creators'},\n",
       "  {'id': 120, 'name': 'Freelance Coders'},\n",
       "  {'id': 121, 'name': 'Open Source Contributors'},\n",
       "  {'id': 122, 'name': 'Algorithmic Traders'},\n",
       "  {'id': 123, 'name': 'Low-Code Developers'},\n",
       "  {'id': 124, 'name': 'Cyber Ethics Forum'},\n",
       "  {'id': 125, 'name': 'AI Ethics & Policy'},\n",
       "  {'id': 126, 'name': 'Digital Nomads'},\n",
       "  {'id': 127, 'name': 'Women in Tech'}]}"
      ]
     },
     "execution_count": 39,
     "metadata": {},
     "output_type": "execute_result"
    }
   ],
   "source": [
    "data"
   ]
  },
  {
   "cell_type": "code",
   "execution_count": 69,
   "id": "51636723-2c85-4ef8-a930-29ecbf118486",
   "metadata": {},
   "outputs": [],
   "source": [
    "def pages_you_might_life(data,user_id):\n",
    "    pages={}\n",
    "    for  user in data['users']:\n",
    "        pages[user['id']]=user['liked_pages']\n",
    "\n",
    "    user_friends={}\n",
    "    for  user in data['users']:\n",
    "        user_friends[user['id']]=user['friends']\n",
    "\n",
    "    if(user_id not in user_friends):\n",
    "        return []\n",
    "\n",
    "    direct_friends=user_friends[user_id]\n",
    "\n",
    "    suggestion={}\n",
    "\n",
    "    for friend in direct_friends:\n",
    "        for mutual in user_friends[friend]:\n",
    "            if mutual != user_id and mutual not in direct_friends:\n",
    "                suggestion[mutual]=suggestion.get(mutual,0)+1\n",
    "\n",
    "    sorted_suggestion=sorted(suggestion.items(),key=lambda x:x[1],reverse=True)\n",
    "\n",
    "    suggested_friends= [user_id for user_id,_ in sorted_suggestion]\n",
    "\n",
    "    liked_pages=[]\n",
    "\n",
    "    for dost in suggested_friends:\n",
    "        liked_pages.extend(pages[dost])\n",
    "\n",
    "    liked_pages=list(set(liked_pages))\n",
    "\n",
    "    user_pages=[]\n",
    "    for user in data['users']:\n",
    "        if(user_id == user['id']):\n",
    "            user_pages=user['liked_pages']\n",
    "\n",
    "    \n",
    "\n",
    "    return [page for page in liked_pages if page not in user_pages],suggested_friends\n",
    "\n",
    "\n",
    "    \n",
    "        \n",
    "        \n",
    "    "
   ]
  },
  {
   "cell_type": "code",
   "execution_count": 70,
   "id": "268871c2-c962-486e-860a-e4233de22510",
   "metadata": {},
   "outputs": [
    {
     "data": {
      "text/plain": [
       "([103, 104, 105, 107, 108, 109, 110, 111, 112], [7, 8, 9, 10, 11, 12])"
      ]
     },
     "execution_count": 70,
     "metadata": {},
     "output_type": "execute_result"
    }
   ],
   "source": [
    "recc=pages_you_might_life(data,1)\n",
    "recc"
   ]
  },
  {
   "cell_type": "markdown",
   "id": "cf62f3c5-a24e-449a-ad6a-d4825d9b2e2b",
   "metadata": {},
   "source": [
    "# now from here we right the harry sir code"
   ]
  },
  {
   "cell_type": "code",
   "execution_count": 1,
   "id": "57b2a4a7-2b3b-4d72-aee3-14b1d392d597",
   "metadata": {},
   "outputs": [],
   "source": [
    "import json\n",
    "def load_data():\n",
    "    return json.load(open(\"massive_data.json\"))"
   ]
  },
  {
   "cell_type": "code",
   "execution_count": 29,
   "id": "85e6d496-b46f-4189-afe9-d2193b91ca83",
   "metadata": {},
   "outputs": [],
   "source": [
    "def pages_you_may_like(data,user_id):\n",
    "    user_pages={}\n",
    "    for user in data['users']:\n",
    "        user_pages[user['id']]=user['liked_pages']\n",
    "\n",
    "    if user_id not in user_pages:\n",
    "        return []\n",
    "\n",
    "    suggestion={}\n",
    "    mera_page=set(user_pages[user_id])\n",
    "\n",
    "    for user,pages in user_pages.items():\n",
    "        if user == user_id:\n",
    "            continue  # Skip self\n",
    "        shared_pages = mera_page.intersection(pages)\n",
    "        for page in pages:\n",
    "            if page not in mera_page:\n",
    "                suggestion[page]=suggestion.get(page,0)+len(shared_pages)\n",
    "\n",
    "\n",
    "    suggestion =sorted(suggestion.items(),key= lambda x:x[1], reverse=True)\n",
    "\n",
    "    return [(page,score) for page,score in suggestion]"
   ]
  },
  {
   "cell_type": "code",
   "execution_count": 30,
   "id": "f226caa1-3482-4014-b433-9e64f2bcb808",
   "metadata": {},
   "outputs": [
    {
     "name": "stdin",
     "output_type": "stream",
     "text": [
      "enter the user_id 1\n"
     ]
    },
    {
     "name": "stdout",
     "output_type": "stream",
     "text": [
      "[(103, 2), (105, 1), (107, 1), (104, 0), (106, 0), (108, 0), (109, 0), (110, 0), (111, 0), (112, 0), (113, 0), (114, 0), (115, 0), (116, 0), (117, 0), (118, 0), (119, 0), (120, 0), (121, 0), (122, 0), (123, 0), (124, 0), (125, 0), (126, 0), (127, 0)]\n"
     ]
    }
   ],
   "source": [
    "data=load_data()\n",
    "user_id=int(input(\"enter the user_id\"))\n",
    "pages=pages_you_may_like(data,user_id)\n",
    "print(pages)"
   ]
  },
  {
   "cell_type": "code",
   "execution_count": null,
   "id": "4022c492-189a-4217-baa1-6aa176bd2d5e",
   "metadata": {},
   "outputs": [],
   "source": []
  }
 ],
 "metadata": {
  "kernelspec": {
   "display_name": "Python 3 (ipykernel)",
   "language": "python",
   "name": "python3"
  },
  "language_info": {
   "codemirror_mode": {
    "name": "ipython",
    "version": 3
   },
   "file_extension": ".py",
   "mimetype": "text/x-python",
   "name": "python",
   "nbconvert_exporter": "python",
   "pygments_lexer": "ipython3",
   "version": "3.11.11"
  }
 },
 "nbformat": 4,
 "nbformat_minor": 5
}
