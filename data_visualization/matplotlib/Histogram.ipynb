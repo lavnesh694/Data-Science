{
 "cells": [
  {
   "cell_type": "code",
   "execution_count": 20,
   "id": "ad69b612-c832-4480-be9a-3040a6795da8",
   "metadata": {},
   "outputs": [
    {
     "name": "stdout",
     "output_type": "stream",
     "text": [
      "[  0  20  40  60  80 100]\n"
     ]
    },
    {
     "data": {
      "text/plain": [
       "([<matplotlib.axis.XTick at 0x1ee345b38d0>,\n",
       "  <matplotlib.axis.XTick at 0x1ee345ab850>,\n",
       "  <matplotlib.axis.XTick at 0x1ee345def90>,\n",
       "  <matplotlib.axis.XTick at 0x1ee345e1450>,\n",
       "  <matplotlib.axis.XTick at 0x1ee345e3690>,\n",
       "  <matplotlib.axis.XTick at 0x1ee345de410>],\n",
       " [Text(0, 0, '0'),\n",
       "  Text(20, 0, '20'),\n",
       "  Text(40, 0, '40'),\n",
       "  Text(60, 0, '60'),\n",
       "  Text(80, 0, '80'),\n",
       "  Text(100, 0, '100')])"
      ]
     },
     "execution_count": 20,
     "metadata": {},
     "output_type": "execute_result"
    },
    {
     "data": {
      "image/png": "[encoded data removed]",
      "text/plain": [
       "<Figure size 640x480 with 1 Axes>"
      ]
     },
     "metadata": {},
     "output_type": "display_data"
    }
   ],
   "source": [
    "import numpy as np\n",
    "import matplotlib.pyplot as plt\n",
    "marks=np.random.randint(1,100,size=40)\n",
    "bins=np.arange(0,101,20)\n",
    "print(bins)\n",
    "plt.hist(marks,bins,color='Pink',edgecolor='black',width=10,alpha=0.7)\n",
    "plt.xticks(range(0,101,20))\n"
   ]
  },
  {
   "cell_type": "code",
   "execution_count": null,
   "id": "4fd39591-138f-4f63-a75d-9b2a05df4e69",
   "metadata": {},
   "outputs": [],
   "source": []
  },
  {
   "cell_type": "code",
   "execution_count": null,
   "id": "59024c1e-2637-4fbc-adfc-7fcc17c82d55",
   "metadata": {},
   "outputs": [],
   "source": []
  }
 ],
 "metadata": {
  "kernelspec": {
   "display_name": "Python 3 (ipykernel)",
   "language": "python",
   "name": "python3"
  },
  "language_info": {
   "codemirror_mode": {
    "name": "ipython",
    "version": 3
   },
   "file_extension": ".py",
   "mimetype": "text/x-python",
   "name": "python",
   "nbconvert_exporter": "python",
   "pygments_lexer": "ipython3",
   "version": "3.11.11"
  }
 },
 "nbformat": 4,
 "nbformat_minor": 5
}
