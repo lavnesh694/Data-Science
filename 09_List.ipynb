{
 "cells": [
  {
   "cell_type": "markdown",
   "id": "21bda87a-f93f-49b7-bf71-194ab048fd92",
   "metadata": {},
   "source": [
    "# Lets discuss about List"
   ]
  },
  {
   "cell_type": "code",
   "execution_count": 24,
   "id": "ac05937c-f7fa-42a6-812b-ac7999645f98",
   "metadata": {
    "tags": []
   },
   "outputs": [],
   "source": [
    "fruits=['apple','banana','guvava']"
   ]
  },
  {
   "cell_type": "code",
   "execution_count": 25,
   "id": "d8c5a8c1-f800-430b-acba-460c21d9186b",
   "metadata": {
    "tags": []
   },
   "outputs": [
    {
     "data": {
      "text/plain": [
       "'guvava'"
      ]
     },
     "execution_count": 25,
     "metadata": {},
     "output_type": "execute_result"
    }
   ],
   "source": [
    "fruits[2]"
   ]
  },
  {
   "cell_type": "code",
   "execution_count": 26,
   "id": "072e876f-b7f4-403d-b2bd-c2e0e0ca737f",
   "metadata": {
    "tags": []
   },
   "outputs": [],
   "source": [
    "fruits[2]='onion' # Lisy is mutable"
   ]
  },
  {
   "cell_type": "code",
   "execution_count": 27,
   "id": "8830c215-80fa-4d92-a46b-23163c687696",
   "metadata": {
    "tags": []
   },
   "outputs": [],
   "source": [
    "fruits.append('beans')"
   ]
  },
  {
   "cell_type": "code",
   "execution_count": 28,
   "id": "d13fec35-65ba-431f-a7be-917ea08df4b5",
   "metadata": {
    "tags": []
   },
   "outputs": [],
   "source": [
    "fruits.extend([\"chapati\",\"roti\"])"
   ]
  },
  {
   "cell_type": "code",
   "execution_count": 29,
   "id": "d705a156-9123-430d-8b3a-c304b8642011",
   "metadata": {
    "tags": []
   },
   "outputs": [
    {
     "data": {
      "text/plain": [
       "['apple', 'banana', 'onion', 'beans', 'chapati', 'roti']"
      ]
     },
     "execution_count": 29,
     "metadata": {},
     "output_type": "execute_result"
    }
   ],
   "source": [
    "fruits"
   ]
  },
  {
   "cell_type": "code",
   "execution_count": 30,
   "id": "ec480e45-c6f3-480a-bfd0-5aacfd984271",
   "metadata": {
    "tags": []
   },
   "outputs": [],
   "source": [
    "fruits.insert(1,500)"
   ]
  },
  {
   "cell_type": "code",
   "execution_count": 31,
   "id": "95940295-1a37-4a01-9dca-7dbcaecf9286",
   "metadata": {
    "tags": []
   },
   "outputs": [
    {
     "data": {
      "text/plain": [
       "['apple', 500, 'banana', 'onion', 'beans', 'chapati', 'roti']"
      ]
     },
     "execution_count": 31,
     "metadata": {},
     "output_type": "execute_result"
    }
   ],
   "source": [
    "fruits"
   ]
  },
  {
   "cell_type": "code",
   "execution_count": 32,
   "id": "13c548e9-bc15-4deb-a16c-94a5141401b9",
   "metadata": {
    "tags": []
   },
   "outputs": [
    {
     "data": {
      "text/plain": [
       "500"
      ]
     },
     "execution_count": 32,
     "metadata": {},
     "output_type": "execute_result"
    }
   ],
   "source": [
    "fruits.pop(1)"
   ]
  },
  {
   "cell_type": "code",
   "execution_count": 34,
   "id": "0f7f296c-e9b6-492d-b2a2-9ba3684d91bb",
   "metadata": {
    "tags": []
   },
   "outputs": [
    {
     "data": {
      "text/plain": [
       "4"
      ]
     },
     "execution_count": 34,
     "metadata": {},
     "output_type": "execute_result"
    }
   ],
   "source": [
    "fruits.index('chapati')"
   ]
  },
  {
   "cell_type": "code",
   "execution_count": 35,
   "id": "7ab23e7b-168a-406a-8469-f014757732e0",
   "metadata": {
    "tags": []
   },
   "outputs": [],
   "source": [
    "fruits.reverse()"
   ]
  },
  {
   "cell_type": "code",
   "execution_count": 36,
   "id": "a3a5deaa-d7d9-4491-8dc5-88d83bb62918",
   "metadata": {
    "tags": []
   },
   "outputs": [
    {
     "data": {
      "text/plain": [
       "['roti', 'chapati', 'beans', 'onion', 'banana', 'apple']"
      ]
     },
     "execution_count": 36,
     "metadata": {},
     "output_type": "execute_result"
    }
   ],
   "source": [
    "fruits"
   ]
  },
  {
   "cell_type": "code",
   "execution_count": 37,
   "id": "40ab0546-4c61-44f4-ab14-8a2491aefe5d",
   "metadata": {
    "tags": []
   },
   "outputs": [],
   "source": [
    "fruits.sort()"
   ]
  },
  {
   "cell_type": "code",
   "execution_count": 38,
   "id": "39a33b73-bb54-4d52-af89-9b2592d3edf7",
   "metadata": {
    "tags": []
   },
   "outputs": [
    {
     "data": {
      "text/plain": [
       "['apple', 'banana', 'beans', 'chapati', 'onion', 'roti']"
      ]
     },
     "execution_count": 38,
     "metadata": {},
     "output_type": "execute_result"
    }
   ],
   "source": [
    "fruits"
   ]
  },
  {
   "cell_type": "code",
   "execution_count": null,
   "id": "6a503a07-e667-49b4-a0d9-6c1035d6a65a",
   "metadata": {},
   "outputs": [],
   "source": [
    "sorted(fruits)"
   ]
  },
  {
   "cell_type": "code",
   "execution_count": 40,
   "id": "ee0ee980",
   "metadata": {
    "tags": []
   },
   "outputs": [
    {
     "data": {
      "text/plain": [
       "True"
      ]
     },
     "execution_count": 40,
     "metadata": {},
     "output_type": "execute_result"
    }
   ],
   "source": [
    "'roti' in fruits"
   ]
  },
  {
   "cell_type": "code",
   "execution_count": 41,
   "id": "5a3c4a1b-1c93-408b-9ee5-981b72ee1a31",
   "metadata": {
    "tags": []
   },
   "outputs": [
    {
     "data": {
      "text/plain": [
       "['My', 'name', 'is', 'lavnesh', 'kumar']"
      ]
     },
     "execution_count": 41,
     "metadata": {},
     "output_type": "execute_result"
    }
   ],
   "source": [
    "s=\"My name is lavnesh kumar\"\n",
    "s.split(\" \")"
   ]
  },
  {
   "cell_type": "markdown",
   "id": "25381440-7f15-4d19-9146-8711d70766b2",
   "metadata": {},
   "source": [
    "# List comprehension"
   ]
  },
  {
   "cell_type": "code",
   "execution_count": 3,
   "id": "61bfc534-beda-4dc7-aaf4-0b005b2bc1c4",
   "metadata": {},
   "outputs": [
    {
     "data": {
      "text/plain": [
       "[0, 4, 16, 36, 64]"
      ]
     },
     "execution_count": 3,
     "metadata": {},
     "output_type": "execute_result"
    }
   ],
   "source": [
    "squares=[x*x for x in range(10) if x%2==0]\n",
    "squares"
   ]
  },
  {
   "cell_type": "code",
   "execution_count": 6,
   "id": "af278af9-4bf3-47b8-87d9-78a77ced9675",
   "metadata": {},
   "outputs": [
    {
     "data": {
      "text/plain": [
       "['even', 'odd', 'even', 'odd', 'even']"
      ]
     },
     "execution_count": 6,
     "metadata": {},
     "output_type": "execute_result"
    }
   ],
   "source": [
    "squares=[\"even\" if x%2==0 else \"odd\" for x in range(5)]\n",
    "squares"
   ]
  },
  {
   "cell_type": "code",
   "execution_count": 7,
   "id": "1d54d0b0-a4a0-4f4d-9d33-dce598fba3e9",
   "metadata": {},
   "outputs": [
    {
     "name": "stdout",
     "output_type": "stream",
     "text": [
      "[(0, 0), (0, 1), (0, 2), (1, 0), (1, 1), (1, 2)]\n"
     ]
    }
   ],
   "source": [
    "pairs=[(x,y) for x in range(2) for y in range(3)]\n",
    "print(pairs)"
   ]
  },
  {
   "cell_type": "code",
   "execution_count": null,
   "id": "00d57b9a-57c6-4df4-95cc-aeff6eed49dd",
   "metadata": {},
   "outputs": [],
   "source": []
  }
 ],
 "metadata": {
  "kernelspec": {
   "display_name": "Python 3 (ipykernel)",
   "language": "python",
   "name": "python3"
  },
  "language_info": {
   "codemirror_mode": {
    "name": "ipython",
    "version": 3
   },
   "file_extension": ".py",
   "mimetype": "text/x-python",
   "name": "python",
   "nbconvert_exporter": "python",
   "pygments_lexer": "ipython3",
   "version": "3.11.11"
  }
 },
 "nbformat": 4,
 "nbformat_minor": 5
}
