{
 "cells": [
  {
   "cell_type": "markdown",
   "id": "769a2cd6-477d-486d-a55a-780e9fe72211",
   "metadata": {},
   "source": [
    "## string formating"
   ]
  },
  {
   "cell_type": "code",
   "execution_count": 5,
   "id": "eb654c78-cbe6-4254-8490-3fbb464a068c",
   "metadata": {
    "tags": []
   },
   "outputs": [],
   "source": [
    "s=\"lavi\"\n",
    "age=21\n",
    "#s[0]=p # not possible because strings is immutable in python"
   ]
  },
  {
   "cell_type": "code",
   "execution_count": 6,
   "id": "3340e568-071e-4846-a657-554cc4fd10b9",
   "metadata": {
    "tags": []
   },
   "outputs": [
    {
     "name": "stdout",
     "output_type": "stream",
     "text": [
      "my name is lavi and iam 21 years old\n"
     ]
    }
   ],
   "source": [
    "print(\"my name is {} and iam {} years old\".format(s,age)) \n",
    "# this is an old way"
   ]
  },
  {
   "cell_type": "code",
   "execution_count": 7,
   "id": "6ab53391-444f-4218-ac06-cb7bdad10998",
   "metadata": {
    "tags": []
   },
   "outputs": [
    {
     "name": "stdout",
     "output_type": "stream",
     "text": [
      "My name is lavi and iam 21 years old\n"
     ]
    }
   ],
   "source": [
    "#new way \n",
    "print(f\"My name is {s} and iam {age} years old\")"
   ]
  },
  {
   "cell_type": "code",
   "execution_count": 9,
   "id": "28c3f3d1-1e66-4ef6-849f-8fd13b722da3",
   "metadata": {
    "tags": []
   },
   "outputs": [
    {
     "name": "stdout",
     "output_type": "stream",
     "text": [
      "python    \n",
      "    python\n",
      "  python  \n"
     ]
    }
   ],
   "source": [
    "print(f\"{'python':<10}\") # left align total width is 10 characters\n",
    "print(f\"{'python':>10}\") # right_align\n",
    "print(f\"{'python':^10}\") # center- align"
   ]
  },
  {
   "cell_type": "markdown",
   "id": "3af42009-c8fc-4821-b809-a53f3ba5aecb",
   "metadata": {},
   "source": [
    "# Loops in python"
   ]
  },
  {
   "cell_type": "code",
   "execution_count": 11,
   "id": "83546797-f67c-4634-9ef2-f1a6eb7ce8ea",
   "metadata": {
    "tags": []
   },
   "outputs": [
    {
     "name": "stdout",
     "output_type": "stream",
     "text": [
      "apple\n",
      "banana\n",
      "cherry\n"
     ]
    }
   ],
   "source": [
    "\n",
    "fruits =[\"apple\", \"banana\", \"cherry\"]\n",
    "for fruit in fruits: \n",
    "    print(fruit)"
   ]
  },
  {
   "cell_type": "code",
   "execution_count": 12,
   "id": "11dd61aa-75a9-4298-aafd-a74a9be9cbc4",
   "metadata": {
    "tags": []
   },
   "outputs": [
    {
     "name": "stdout",
     "output_type": "stream",
     "text": [
      "0\n",
      "1\n",
      "2\n"
     ]
    }
   ],
   "source": [
    "for i in range(3):\n",
    "    print(i)"
   ]
  },
  {
   "cell_type": "code",
   "execution_count": 17,
   "id": "9a8efcae-5661-4232-8ff9-14edf07cee9c",
   "metadata": {
    "tags": []
   },
   "outputs": [
    {
     "name": "stdout",
     "output_type": "stream",
     "text": [
      "1\n",
      "3\n",
      "5\n",
      "7\n",
      "9\n"
     ]
    }
   ],
   "source": [
    "for i in range(1,11,2):\n",
    "    print(i)"
   ]
  },
  {
   "cell_type": "markdown",
   "id": "c7ff8467-43a9-400e-bb6d-f162e095a80d",
   "metadata": {},
   "source": [
    "## while loop\n"
   ]
  },
  {
   "cell_type": "code",
   "execution_count": 18,
   "id": "15a328bf-cc4c-419e-804d-fd87bc8d525a",
   "metadata": {
    "tags": []
   },
   "outputs": [
    {
     "name": "stdout",
     "output_type": "stream",
     "text": [
      "0\n",
      "1\n",
      "2\n",
      "final value of count is 3\n"
     ]
    }
   ],
   "source": [
    "count=0\n",
    "while count<3:\n",
    "    print(count)\n",
    "    count+=1\n",
    "print(f\"final value of count is {count}\")"
   ]
  },
  {
   "cell_type": "code",
   "execution_count": 19,
   "id": "5020f334-e2d3-4961-9f63-fc442d4617a2",
   "metadata": {
    "tags": []
   },
   "outputs": [
    {
     "name": "stdout",
     "output_type": "stream",
     "text": [
      "lk boss\n"
     ]
    }
   ],
   "source": [
    "for item in fruits:\n",
    "    pass  # Don't do anything \n",
    "\n",
    "print(\"lk boss\")"
   ]
  },
  {
   "cell_type": "code",
   "execution_count": null,
   "id": "40fda3e3-e2d2-4e4e-a0f3-c3c9b3abaad9",
   "metadata": {},
   "outputs": [],
   "source": []
  }
 ],
 "metadata": {
  "kernelspec": {
   "display_name": "Python 3 (ipykernel)",
   "language": "python",
   "name": "python3"
  },
  "language_info": {
   "codemirror_mode": {
    "name": "ipython",
    "version": 3
   },
   "file_extension": ".py",
   "mimetype": "text/x-python",
   "name": "python",
   "nbconvert_exporter": "python",
   "pygments_lexer": "ipython3",
   "version": "3.11.5"
  }
 },
 "nbformat": 4,
 "nbformat_minor": 5
}
