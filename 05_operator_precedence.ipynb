{
 "cells": [
  {
   "cell_type": "code",
   "execution_count": 3,
   "id": "0455dadc-c1a9-4596-9760-eb3ad2bc1e0d",
   "metadata": {
    "tags": []
   },
   "outputs": [],
   "source": [
    "result=(10+2)*3"
   ]
  },
  {
   "cell_type": "code",
   "execution_count": 4,
   "id": "deca93d8-6adf-4da4-9a88-2270fc4fbeb6",
   "metadata": {
    "tags": []
   },
   "outputs": [
    {
     "data": {
      "text/plain": [
       "36"
      ]
     },
     "execution_count": 4,
     "metadata": {},
     "output_type": "execute_result"
    }
   ],
   "source": [
    "result"
   ]
  },
  {
   "cell_type": "code",
   "execution_count": 9,
   "id": "3e6690f3-a293-41ff-923d-23db824e3354",
   "metadata": {
    "tags": []
   },
   "outputs": [
    {
     "data": {
      "text/plain": [
       "1"
      ]
     },
     "execution_count": 9,
     "metadata": {},
     "output_type": "execute_result"
    }
   ],
   "source": [
    "1**3**2 # this is always right to left"
   ]
  },
  {
   "cell_type": "code",
   "execution_count": 7,
   "id": "d6e575b9-52b0-4cfc-b5b1-e476f26d1c74",
   "metadata": {
    "tags": []
   },
   "outputs": [
    {
     "data": {
      "text/plain": [
       "512"
      ]
     },
     "execution_count": 7,
     "metadata": {},
     "output_type": "execute_result"
    }
   ],
   "source": [
    "2**3**2"
   ]
  },
  {
   "cell_type": "code",
   "execution_count": 8,
   "id": "69337031-b7ea-4730-9b1b-e706523094a0",
   "metadata": {
    "tags": []
   },
   "outputs": [
    {
     "data": {
      "text/plain": [
       "1"
      ]
     },
     "execution_count": 8,
     "metadata": {},
     "output_type": "execute_result"
    }
   ],
   "source": [
    "1**3**3"
   ]
  },
  {
   "cell_type": "markdown",
   "id": "bc05df48-0aee-44cc-af08-8522c60d3e1c",
   "metadata": {},
   "source": [
    " ### exponential has the highest precedence after parenthesis"
   ]
  },
  {
   "cell_type": "code",
   "execution_count": null,
   "id": "0b7177a7-effa-43e1-a6b7-b955073a6f59",
   "metadata": {},
   "outputs": [],
   "source": []
  }
 ],
 "metadata": {
  "kernelspec": {
   "display_name": "Python 3 (ipykernel)",
   "language": "python",
   "name": "python3"
  },
  "language_info": {
   "codemirror_mode": {
    "name": "ipython",
    "version": 3
   },
   "file_extension": ".py",
   "mimetype": "text/x-python",
   "name": "python",
   "nbconvert_exporter": "python",
   "pygments_lexer": "ipython3",
   "version": "3.11.5"
  }
 },
 "nbformat": 4,
 "nbformat_minor": 5
}
