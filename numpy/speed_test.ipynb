{
 "cells": [
  {
   "cell_type": "code",
   "execution_count": 8,
   "id": "320ac707-8c39-457c-92dc-971074a93c72",
   "metadata": {},
   "outputs": [
    {
     "name": "stdout",
     "output_type": "stream",
     "text": [
      "[0, 2, 4, 6, 8, 10, 12, 14, 16, 18]\n",
      "0.1939983367919922\n"
     ]
    }
   ],
   "source": [
    "#using pyhton list\n",
    "\n",
    "import numpy as np\n",
    "import time\n",
    "\n",
    "size=1_000_000\n",
    "L1=list(range(size))\n",
    "L2=list(range(size))\n",
    "start=time.time()\n",
    "\n",
    "add=[x+y for x,y in zip(L1,L2)]\n",
    "print(add[0:10])\n",
    "\n",
    "end=time.time()\n",
    "\n",
    "print(end-start)"
   ]
  },
  {
   "cell_type": "code",
   "execution_count": 9,
   "id": "68f7beb0-f390-48ee-87ac-fcf2e27a467b",
   "metadata": {},
   "outputs": [
    {
     "name": "stdout",
     "output_type": "stream",
     "text": [
      "[      0       2       4 ... 1999994 1999996 1999998]\n",
      "0.02401900291442871\n"
     ]
    }
   ],
   "source": [
    "# using numpy arrays\n",
    "\n",
    "import numpy as np\n",
    "import time\n",
    "\n",
    "size=1_000_000\n",
    "L1=np.array(list(range(size)))\n",
    "L2=np.array(list(range(size)))\n",
    "start=time.time()\n",
    "\n",
    "add=L1+L2\n",
    "print(add)\n",
    "\n",
    "end=time.time()\n",
    "\n",
    "print(end-start)"
   ]
  },
  {
   "cell_type": "code",
   "execution_count": 13,
   "id": "c7143d4c-48a9-4a1f-bf6c-80710efa02c2",
   "metadata": {},
   "outputs": [
    {
     "name": "stdout",
     "output_type": "stream",
     "text": [
      "[0, 1, 4, 9, 16, 25, 36, 49, 64, 81]\n",
      "0.14301013946533203\n"
     ]
    }
   ],
   "source": [
    "l=list(range(1000_000))\n",
    "start=time.time()\n",
    "l=[x**2 for x in l]\n",
    "end=time.time()\n",
    "print(l[:10])\n",
    "\n",
    "print(end-start)\n",
    "\n"
   ]
  },
  {
   "cell_type": "code",
   "execution_count": 14,
   "id": "23a79b3d-1ec8-43f5-b2ef-a903684dc7e8",
   "metadata": {},
   "outputs": [
    {
     "name": "stdout",
     "output_type": "stream",
     "text": [
      "[ 0  1  4  9 16 25 36 49 64 81]\n",
      "0.0050051212310791016\n"
     ]
    }
   ],
   "source": [
    "l=list(range(1000_000))\n",
    "l=np.array(l)\n",
    "start=time.time()\n",
    "l=l**2\n",
    "end=time.time()\n",
    "print(l[:10])\n",
    "print(end-start)"
   ]
  },
  {
   "cell_type": "code",
   "execution_count": null,
   "id": "b850e182-21e6-4697-b234-0d418ba085db",
   "metadata": {},
   "outputs": [],
   "source": []
  }
 ],
 "metadata": {
  "kernelspec": {
   "display_name": "Python 3 (ipykernel)",
   "language": "python",
   "name": "python3"
  },
  "language_info": {
   "codemirror_mode": {
    "name": "ipython",
    "version": 3
   },
   "file_extension": ".py",
   "mimetype": "text/x-python",
   "name": "python",
   "nbconvert_exporter": "python",
   "pygments_lexer": "ipython3",
   "version": "3.11.11"
  }
 },
 "nbformat": 4,
 "nbformat_minor": 5
}
