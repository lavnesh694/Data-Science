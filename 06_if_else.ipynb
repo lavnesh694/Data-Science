{
 "cells": [
  {
   "cell_type": "markdown",
   "id": "9b3e5cb1-8ce2-4eb8-90a1-b3f739194243",
   "metadata": {},
   "source": [
    "# conditional statements in python"
   ]
  },
  {
   "cell_type": "code",
   "execution_count": 1,
   "id": "2cba313a-8e28-4b10-8c0a-c37ac549b44f",
   "metadata": {
    "tags": []
   },
   "outputs": [
    {
     "name": "stdout",
     "output_type": "stream",
     "text": [
      "nhi bhaiya ye to chota hain\n"
     ]
    }
   ],
   "source": [
    "a=4\n",
    "if(a>53):\n",
    "    print(\"bhaiya ye to bada no hain\")\n",
    "else:\n",
    "    print(\"nhi bhaiya ye to chota hain\")"
   ]
  },
  {
   "cell_type": "code",
   "execution_count": 2,
   "id": "8386c7ec-8478-41df-94c0-6f5525d81a04",
   "metadata": {
    "tags": []
   },
   "outputs": [
    {
     "name": "stdout",
     "output_type": "stream",
     "text": [
      "bole to\n"
     ]
    }
   ],
   "source": [
    "if a>5:\n",
    "    print(\"ye bhi shi hain\")\n",
    "else:\n",
    "    print(\"bole to\")"
   ]
  },
  {
   "cell_type": "markdown",
   "id": "cb1ce4cb-a8a1-437e-8bee-83db136d34a6",
   "metadata": {},
   "source": [
    "## functions"
   ]
  },
  {
   "cell_type": "code",
   "execution_count": 6,
   "id": "553e373c-09e0-46d4-8160-25e2dff38086",
   "metadata": {
    "tags": []
   },
   "outputs": [],
   "source": [
    "def avg(a,b=10):\n",
    "    return (a+b)/2"
   ]
  },
  {
   "cell_type": "code",
   "execution_count": 7,
   "id": "aad4808d-a048-4dce-978e-0397bfe300f9",
   "metadata": {
    "tags": []
   },
   "outputs": [
    {
     "data": {
      "text/plain": [
       "5.0"
      ]
     },
     "execution_count": 7,
     "metadata": {},
     "output_type": "execute_result"
    }
   ],
   "source": [
    "avg(4,6)"
   ]
  },
  {
   "cell_type": "code",
   "execution_count": 8,
   "id": "1dfd2d61-f046-4a34-aaaf-5c7d06fe6c17",
   "metadata": {
    "tags": []
   },
   "outputs": [
    {
     "data": {
      "text/plain": [
       "7.0"
      ]
     },
     "execution_count": 8,
     "metadata": {},
     "output_type": "execute_result"
    }
   ],
   "source": [
    "avg(4)"
   ]
  },
  {
   "cell_type": "code",
   "execution_count": null,
   "id": "64fba30f-82c8-4e5b-a52a-b083b4507de0",
   "metadata": {},
   "outputs": [],
   "source": []
  }
 ],
 "metadata": {
  "kernelspec": {
   "display_name": "Python 3 (ipykernel)",
   "language": "python",
   "name": "python3"
  },
  "language_info": {
   "codemirror_mode": {
    "name": "ipython",
    "version": 3
   },
   "file_extension": ".py",
   "mimetype": "text/x-python",
   "name": "python",
   "nbconvert_exporter": "python",
   "pygments_lexer": "ipython3",
   "version": "3.11.5"
  }
 },
 "nbformat": 4,
 "nbformat_minor": 5
}
