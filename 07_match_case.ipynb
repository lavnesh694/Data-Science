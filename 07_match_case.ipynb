{
 "cells": [
  {
   "cell_type": "markdown",
   "id": "81028ca6-3dcb-48b9-a726-e21f0a6b8958",
   "metadata": {},
   "source": [
    "## match case"
   ]
  },
  {
   "cell_type": "code",
   "execution_count": 8,
   "id": "4f1d4241-9d4c-41b2-817a-bacc776d89c9",
   "metadata": {
    "tags": []
   },
   "outputs": [],
   "source": [
    "def http_status(code):\n",
    "    match code:\n",
    "        case 200:\n",
    "            return (\"Respone ok\")\n",
    "        case 400:\n",
    "            return \"bad response\"\n",
    "        case 404:\n",
    "            return \"not fount\"\n",
    "        case _: # if not any case found\n",
    "            return \"kuch nhi mila\"\n",
    "        "
   ]
  },
  {
   "cell_type": "code",
   "execution_count": 9,
   "id": "969fd165-0f86-4a9f-9635-f4d24d0aa305",
   "metadata": {
    "tags": []
   },
   "outputs": [
    {
     "data": {
      "text/plain": [
       "'kuch nhi mila'"
      ]
     },
     "execution_count": 9,
     "metadata": {},
     "output_type": "execute_result"
    }
   ],
   "source": [
    "http_status(403)"
   ]
  },
  {
   "cell_type": "code",
   "execution_count": null,
   "id": "f765dc61-9875-461b-89c6-87195c8ebef9",
   "metadata": {},
   "outputs": [],
   "source": []
  }
 ],
 "metadata": {
  "kernelspec": {
   "display_name": "Python 3 (ipykernel)",
   "language": "python",
   "name": "python3"
  },
  "language_info": {
   "codemirror_mode": {
    "name": "ipython",
    "version": 3
   },
   "file_extension": ".py",
   "mimetype": "text/x-python",
   "name": "python",
   "nbconvert_exporter": "python",
   "pygments_lexer": "ipython3",
   "version": "3.11.5"
  }
 },
 "nbformat": 4,
 "nbformat_minor": 5
}
