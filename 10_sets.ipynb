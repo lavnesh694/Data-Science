{
 "cells": [
  {
   "cell_type": "markdown",
   "id": "bdf87c96-6beb-45a6-9155-40ccb4ba49ad",
   "metadata": {},
   "source": [
    "# A set in Python is an unordered,mutable,unique collection of elements."
   ]
  },
  {
   "cell_type": "code",
   "execution_count": 1,
   "id": "03793844-5c38-4fdc-9b53-0d793ce44e93",
   "metadata": {
    "tags": []
   },
   "outputs": [],
   "source": [
    "a=() # this is notthe right way to create set"
   ]
  },
  {
   "cell_type": "code",
   "execution_count": 2,
   "id": "9b55eb08-30b7-45fb-be73-362e38941228",
   "metadata": {
    "tags": []
   },
   "outputs": [
    {
     "data": {
      "text/plain": [
       "tuple"
      ]
     },
     "execution_count": 2,
     "metadata": {},
     "output_type": "execute_result"
    }
   ],
   "source": [
    "type(a)"
   ]
  },
  {
   "cell_type": "code",
   "execution_count": 3,
   "id": "0c7713c0-4148-4db7-ab65-9aab050924e0",
   "metadata": {
    "tags": []
   },
   "outputs": [],
   "source": [
    "a=set()"
   ]
  },
  {
   "cell_type": "code",
   "execution_count": 4,
   "id": "9a9f98c9-b219-4632-8a6b-d733cb3ad372",
   "metadata": {
    "tags": []
   },
   "outputs": [
    {
     "data": {
      "text/plain": [
       "set"
      ]
     },
     "execution_count": 4,
     "metadata": {},
     "output_type": "execute_result"
    }
   ],
   "source": [
    "type(a)"
   ]
  },
  {
   "cell_type": "code",
   "execution_count": 5,
   "id": "54323861-5841-4f71-88a7-1e687bd877a4",
   "metadata": {
    "tags": []
   },
   "outputs": [],
   "source": [
    "s={1,2,3,3,3,5,6,1}"
   ]
  },
  {
   "cell_type": "code",
   "execution_count": 6,
   "id": "5ff46272-1c0c-4cfe-93e6-05086235baa3",
   "metadata": {
    "tags": []
   },
   "outputs": [
    {
     "data": {
      "text/plain": [
       "{1, 2, 3, 5, 6}"
      ]
     },
     "execution_count": 6,
     "metadata": {},
     "output_type": "execute_result"
    }
   ],
   "source": [
    "s"
   ]
  },
  {
   "cell_type": "code",
   "execution_count": null,
   "id": "25da62bb-745f-4584-83e9-88e10ca5ac65",
   "metadata": {},
   "outputs": [],
   "source": []
  }
 ],
 "metadata": {
  "kernelspec": {
   "display_name": "Python 3 (ipykernel)",
   "language": "python",
   "name": "python3"
  },
  "language_info": {
   "codemirror_mode": {
    "name": "ipython",
    "version": 3
   },
   "file_extension": ".py",
   "mimetype": "text/x-python",
   "name": "python",
   "nbconvert_exporter": "python",
   "pygments_lexer": "ipython3",
   "version": "3.11.5"
  }
 },
 "nbformat": 4,
 "nbformat_minor": 5
}
